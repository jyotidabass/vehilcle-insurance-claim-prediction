{
  "cells": [
    {
      "cell_type": "markdown",
      "metadata": {
        "id": "view-in-github",
        "colab_type": "text"
      },
      "source": [
        "<a href=\"https://colab.research.google.com/github/jyotidabass/vehilcle-insurance-claim-prediction/blob/main/vehicle_insurance_claim_prediction.ipynb\" target=\"_parent\"><img src=\"https://colab.research.google.com/assets/colab-badge.svg\" alt=\"Open In Colab\"/></a>"
      ]
    },
    {
      "cell_type": "markdown",
      "id": "f2af1539",
      "metadata": {
        "id": "f2af1539"
      },
      "source": [
        "### Loading the libraries"
      ]
    },
    {
      "cell_type": "code",
      "source": [
        "!git clone https://github.com/Sarah-2510/Vehicle-Insurance-Claim-Prediction.git"
      ],
      "metadata": {
        "colab": {
          "base_uri": "https://localhost:8080/"
        },
        "id": "ROp7SxxTwz7V",
        "outputId": "49f27a74-35da-41e0-ef87-829c7168b938"
      },
      "id": "ROp7SxxTwz7V",
      "execution_count": 1,
      "outputs": [
        {
          "output_type": "stream",
          "name": "stdout",
          "text": [
            "Cloning into 'Vehicle-Insurance-Claim-Prediction'...\n",
            "remote: Enumerating objects: 20, done.\u001b[K\n",
            "remote: Counting objects: 100% (20/20), done.\u001b[K\n",
            "remote: Compressing objects: 100% (19/19), done.\u001b[K\n",
            "remote: Total 20 (delta 6), reused 0 (delta 0), pack-reused 0\u001b[K\n",
            "Unpacking objects: 100% (20/20), done.\n"
          ]
        }
      ]
    },
    {
      "cell_type": "code",
      "execution_count": 2,
      "id": "07f4dee4",
      "metadata": {
        "id": "07f4dee4"
      },
      "outputs": [],
      "source": [
        "import pandas as pd # data analytical library\n",
        "import matplotlib.pyplot as plt #visualization\n",
        "import seaborn as sns #statistical visualization"
      ]
    },
    {
      "cell_type": "markdown",
      "id": "174f33c0",
      "metadata": {
        "id": "174f33c0"
      },
      "source": [
        "### Reading the test and train dataset"
      ]
    },
    {
      "cell_type": "code",
      "execution_count": 218,
      "id": "e94684d1",
      "metadata": {
        "id": "e94684d1"
      },
      "outputs": [],
      "source": [
        "df=pd.read_csv(\"/content/Vehicle-Insurance-Claim-Prediction/train_SJC.csv\")  #train dataset\n",
        "df1=pd.read_csv(\"/content/Vehicle-Insurance-Claim-Prediction/Test_SJC.csv\") #test dataset"
      ]
    },
    {
      "cell_type": "code",
      "execution_count": 219,
      "id": "66721a4b",
      "metadata": {
        "colab": {
          "base_uri": "https://localhost:8080/",
          "height": 513
        },
        "id": "66721a4b",
        "outputId": "8855040c-2e84-49c1-c698-e72f5a53b321"
      },
      "outputs": [
        {
          "output_type": "execute_result",
          "data": {
            "text/plain": [
              "    Unnamed: 0            Unnamed: 1          DateReported Unnamed: 3  \\\n",
              "0  ClaimNumber    DateTimeOfAccident                   NaN        Age   \n",
              "1    WC8205482  2002-04-09T07:00:00Z  2002-07-05T00:00:00Z         48   \n",
              "2    WC6922469  1999-01-07T11:00:00Z  1999-01-20T00:00:00Z         43   \n",
              "3    WC5442654  1996-03-25T00:00:00Z  1996-04-14T00:00:00Z         30   \n",
              "4    WC9796897  2005-06-22T13:00:00Z  2005-07-22T00:00:00Z         41   \n",
              "\n",
              "  Unnamed: 4     Unnamed: 5         Unnamed: 6  DependentsOther   Unnamed: 8  \\\n",
              "0     Gender  MaritalStatus  DependentChildren              NaN  WeeklyWages   \n",
              "1          M              M                  0              0.0          500   \n",
              "2          F              M                  0              0.0       509.34   \n",
              "3          M              U                  0              0.0        709.1   \n",
              "4          M              S                  0              0.0       555.46   \n",
              "\n",
              "         Unnamed: 9         Unnamed: 10  DaysWorkedPerWeek  \\\n",
              "0  PartTimeFullTime  HoursWorkedPerWeek                NaN   \n",
              "1                 F                  38                5.0   \n",
              "2                 F                37.5                5.0   \n",
              "3                 F                  38                5.0   \n",
              "4                 F                  38                5.0   \n",
              "\n",
              "                                         Unnamed: 12  \\\n",
              "0                                   ClaimDescription   \n",
              "1  LIFTING TYRE INJURY TO RIGHT ARM AND WRIST INJURY   \n",
              "2  STEPPED AROUND CRATES AND TRUCK TRAY FRACTURE ...   \n",
              "3                   CUT ON SHARP EDGE CUT LEFT THUMB   \n",
              "4               DIGGING LOWER BACK LOWER BACK STRAIN   \n",
              "\n",
              "                 Unnamed: 13                Unnamed: 14  \n",
              "0  InitialIncurredCalimsCost  UltimateIncurredClaimCost  \n",
              "1                       1500                4748.203388  \n",
              "2                       5500                6326.285819  \n",
              "3                       1700                2293.949087  \n",
              "4                      15000                17786.48717  "
            ],
            "text/html": [
              "\n",
              "  <div id=\"df-1f87d80a-452e-4f0b-b051-a05ad8885f29\">\n",
              "    <div class=\"colab-df-container\">\n",
              "      <div>\n",
              "<style scoped>\n",
              "    .dataframe tbody tr th:only-of-type {\n",
              "        vertical-align: middle;\n",
              "    }\n",
              "\n",
              "    .dataframe tbody tr th {\n",
              "        vertical-align: top;\n",
              "    }\n",
              "\n",
              "    .dataframe thead th {\n",
              "        text-align: right;\n",
              "    }\n",
              "</style>\n",
              "<table border=\"1\" class=\"dataframe\">\n",
              "  <thead>\n",
              "    <tr style=\"text-align: right;\">\n",
              "      <th></th>\n",
              "      <th>Unnamed: 0</th>\n",
              "      <th>Unnamed: 1</th>\n",
              "      <th>DateReported</th>\n",
              "      <th>Unnamed: 3</th>\n",
              "      <th>Unnamed: 4</th>\n",
              "      <th>Unnamed: 5</th>\n",
              "      <th>Unnamed: 6</th>\n",
              "      <th>DependentsOther</th>\n",
              "      <th>Unnamed: 8</th>\n",
              "      <th>Unnamed: 9</th>\n",
              "      <th>Unnamed: 10</th>\n",
              "      <th>DaysWorkedPerWeek</th>\n",
              "      <th>Unnamed: 12</th>\n",
              "      <th>Unnamed: 13</th>\n",
              "      <th>Unnamed: 14</th>\n",
              "    </tr>\n",
              "  </thead>\n",
              "  <tbody>\n",
              "    <tr>\n",
              "      <th>0</th>\n",
              "      <td>ClaimNumber</td>\n",
              "      <td>DateTimeOfAccident</td>\n",
              "      <td>NaN</td>\n",
              "      <td>Age</td>\n",
              "      <td>Gender</td>\n",
              "      <td>MaritalStatus</td>\n",
              "      <td>DependentChildren</td>\n",
              "      <td>NaN</td>\n",
              "      <td>WeeklyWages</td>\n",
              "      <td>PartTimeFullTime</td>\n",
              "      <td>HoursWorkedPerWeek</td>\n",
              "      <td>NaN</td>\n",
              "      <td>ClaimDescription</td>\n",
              "      <td>InitialIncurredCalimsCost</td>\n",
              "      <td>UltimateIncurredClaimCost</td>\n",
              "    </tr>\n",
              "    <tr>\n",
              "      <th>1</th>\n",
              "      <td>WC8205482</td>\n",
              "      <td>2002-04-09T07:00:00Z</td>\n",
              "      <td>2002-07-05T00:00:00Z</td>\n",
              "      <td>48</td>\n",
              "      <td>M</td>\n",
              "      <td>M</td>\n",
              "      <td>0</td>\n",
              "      <td>0.0</td>\n",
              "      <td>500</td>\n",
              "      <td>F</td>\n",
              "      <td>38</td>\n",
              "      <td>5.0</td>\n",
              "      <td>LIFTING TYRE INJURY TO RIGHT ARM AND WRIST INJURY</td>\n",
              "      <td>1500</td>\n",
              "      <td>4748.203388</td>\n",
              "    </tr>\n",
              "    <tr>\n",
              "      <th>2</th>\n",
              "      <td>WC6922469</td>\n",
              "      <td>1999-01-07T11:00:00Z</td>\n",
              "      <td>1999-01-20T00:00:00Z</td>\n",
              "      <td>43</td>\n",
              "      <td>F</td>\n",
              "      <td>M</td>\n",
              "      <td>0</td>\n",
              "      <td>0.0</td>\n",
              "      <td>509.34</td>\n",
              "      <td>F</td>\n",
              "      <td>37.5</td>\n",
              "      <td>5.0</td>\n",
              "      <td>STEPPED AROUND CRATES AND TRUCK TRAY FRACTURE ...</td>\n",
              "      <td>5500</td>\n",
              "      <td>6326.285819</td>\n",
              "    </tr>\n",
              "    <tr>\n",
              "      <th>3</th>\n",
              "      <td>WC5442654</td>\n",
              "      <td>1996-03-25T00:00:00Z</td>\n",
              "      <td>1996-04-14T00:00:00Z</td>\n",
              "      <td>30</td>\n",
              "      <td>M</td>\n",
              "      <td>U</td>\n",
              "      <td>0</td>\n",
              "      <td>0.0</td>\n",
              "      <td>709.1</td>\n",
              "      <td>F</td>\n",
              "      <td>38</td>\n",
              "      <td>5.0</td>\n",
              "      <td>CUT ON SHARP EDGE CUT LEFT THUMB</td>\n",
              "      <td>1700</td>\n",
              "      <td>2293.949087</td>\n",
              "    </tr>\n",
              "    <tr>\n",
              "      <th>4</th>\n",
              "      <td>WC9796897</td>\n",
              "      <td>2005-06-22T13:00:00Z</td>\n",
              "      <td>2005-07-22T00:00:00Z</td>\n",
              "      <td>41</td>\n",
              "      <td>M</td>\n",
              "      <td>S</td>\n",
              "      <td>0</td>\n",
              "      <td>0.0</td>\n",
              "      <td>555.46</td>\n",
              "      <td>F</td>\n",
              "      <td>38</td>\n",
              "      <td>5.0</td>\n",
              "      <td>DIGGING LOWER BACK LOWER BACK STRAIN</td>\n",
              "      <td>15000</td>\n",
              "      <td>17786.48717</td>\n",
              "    </tr>\n",
              "  </tbody>\n",
              "</table>\n",
              "</div>\n",
              "      <button class=\"colab-df-convert\" onclick=\"convertToInteractive('df-1f87d80a-452e-4f0b-b051-a05ad8885f29')\"\n",
              "              title=\"Convert this dataframe to an interactive table.\"\n",
              "              style=\"display:none;\">\n",
              "        \n",
              "  <svg xmlns=\"http://www.w3.org/2000/svg\" height=\"24px\"viewBox=\"0 0 24 24\"\n",
              "       width=\"24px\">\n",
              "    <path d=\"M0 0h24v24H0V0z\" fill=\"none\"/>\n",
              "    <path d=\"M18.56 5.44l.94 2.06.94-2.06 2.06-.94-2.06-.94-.94-2.06-.94 2.06-2.06.94zm-11 1L8.5 8.5l.94-2.06 2.06-.94-2.06-.94L8.5 2.5l-.94 2.06-2.06.94zm10 10l.94 2.06.94-2.06 2.06-.94-2.06-.94-.94-2.06-.94 2.06-2.06.94z\"/><path d=\"M17.41 7.96l-1.37-1.37c-.4-.4-.92-.59-1.43-.59-.52 0-1.04.2-1.43.59L10.3 9.45l-7.72 7.72c-.78.78-.78 2.05 0 2.83L4 21.41c.39.39.9.59 1.41.59.51 0 1.02-.2 1.41-.59l7.78-7.78 2.81-2.81c.8-.78.8-2.07 0-2.86zM5.41 20L4 18.59l7.72-7.72 1.47 1.35L5.41 20z\"/>\n",
              "  </svg>\n",
              "      </button>\n",
              "      \n",
              "  <style>\n",
              "    .colab-df-container {\n",
              "      display:flex;\n",
              "      flex-wrap:wrap;\n",
              "      gap: 12px;\n",
              "    }\n",
              "\n",
              "    .colab-df-convert {\n",
              "      background-color: #E8F0FE;\n",
              "      border: none;\n",
              "      border-radius: 50%;\n",
              "      cursor: pointer;\n",
              "      display: none;\n",
              "      fill: #1967D2;\n",
              "      height: 32px;\n",
              "      padding: 0 0 0 0;\n",
              "      width: 32px;\n",
              "    }\n",
              "\n",
              "    .colab-df-convert:hover {\n",
              "      background-color: #E2EBFA;\n",
              "      box-shadow: 0px 1px 2px rgba(60, 64, 67, 0.3), 0px 1px 3px 1px rgba(60, 64, 67, 0.15);\n",
              "      fill: #174EA6;\n",
              "    }\n",
              "\n",
              "    [theme=dark] .colab-df-convert {\n",
              "      background-color: #3B4455;\n",
              "      fill: #D2E3FC;\n",
              "    }\n",
              "\n",
              "    [theme=dark] .colab-df-convert:hover {\n",
              "      background-color: #434B5C;\n",
              "      box-shadow: 0px 1px 3px 1px rgba(0, 0, 0, 0.15);\n",
              "      filter: drop-shadow(0px 1px 2px rgba(0, 0, 0, 0.3));\n",
              "      fill: #FFFFFF;\n",
              "    }\n",
              "  </style>\n",
              "\n",
              "      <script>\n",
              "        const buttonEl =\n",
              "          document.querySelector('#df-1f87d80a-452e-4f0b-b051-a05ad8885f29 button.colab-df-convert');\n",
              "        buttonEl.style.display =\n",
              "          google.colab.kernel.accessAllowed ? 'block' : 'none';\n",
              "\n",
              "        async function convertToInteractive(key) {\n",
              "          const element = document.querySelector('#df-1f87d80a-452e-4f0b-b051-a05ad8885f29');\n",
              "          const dataTable =\n",
              "            await google.colab.kernel.invokeFunction('convertToInteractive',\n",
              "                                                     [key], {});\n",
              "          if (!dataTable) return;\n",
              "\n",
              "          const docLinkHtml = 'Like what you see? Visit the ' +\n",
              "            '<a target=\"_blank\" href=https://colab.research.google.com/notebooks/data_table.ipynb>data table notebook</a>'\n",
              "            + ' to learn more about interactive tables.';\n",
              "          element.innerHTML = '';\n",
              "          dataTable['output_type'] = 'display_data';\n",
              "          await google.colab.output.renderOutput(dataTable, element);\n",
              "          const docLink = document.createElement('div');\n",
              "          docLink.innerHTML = docLinkHtml;\n",
              "          element.appendChild(docLink);\n",
              "        }\n",
              "      </script>\n",
              "    </div>\n",
              "  </div>\n",
              "  "
            ]
          },
          "metadata": {},
          "execution_count": 219
        }
      ],
      "source": [
        "#Checking the dataframe for training data\n",
        "df.head()"
      ]
    },
    {
      "cell_type": "markdown",
      "id": "a946f4c3",
      "metadata": {
        "id": "a946f4c3"
      },
      "source": [
        "#### Renaming the column names in train data as it is \"unnamed\" "
      ]
    },
    {
      "cell_type": "code",
      "execution_count": 220,
      "id": "14ebbf41",
      "metadata": {
        "id": "14ebbf41"
      },
      "outputs": [],
      "source": [
        "df=df.rename(columns={\"Unnamed: 0\":\"ClaimNumber\",\"Unnamed: 1\":\"DateTimeOfAccident\",\"Unnamed: 3\":\"Age\",\"Unnamed: 4\":\"Gender\",\n",
        "                      \"Unnamed: 5\":\"MaritalStatus\",\"Unnamed: 6\":\"DependentChildren\",\"Unnamed: 8\":\"WeeklyWages\",\n",
        "                      \"Unnamed: 9\":\"PartTimeFullTime\",\"Unnamed: 10\":\"HoursWorkedPerWeek\",\"Unnamed: 12\":\"ClaimDescription\",\n",
        "                      \"Unnamed: 13\":\"InitialIncurredCalimsCost\",\"Unnamed: 14\":'UltimateIncurredClaimCost'},inplace=False)"
      ]
    },
    {
      "cell_type": "markdown",
      "id": "715341ad",
      "metadata": {
        "id": "715341ad"
      },
      "source": [
        "#### Dropping the first row as it has the column names in train data"
      ]
    },
    {
      "cell_type": "code",
      "execution_count": 221,
      "id": "a36126e0",
      "metadata": {
        "colab": {
          "base_uri": "https://localhost:8080/",
          "height": 513
        },
        "id": "a36126e0",
        "outputId": "7993ad53-3460-4f52-bccd-1a3533e2da1a"
      },
      "outputs": [
        {
          "output_type": "execute_result",
          "data": {
            "text/plain": [
              "  ClaimNumber    DateTimeOfAccident          DateReported Age Gender  \\\n",
              "1   WC8205482  2002-04-09T07:00:00Z  2002-07-05T00:00:00Z  48      M   \n",
              "2   WC6922469  1999-01-07T11:00:00Z  1999-01-20T00:00:00Z  43      F   \n",
              "3   WC5442654  1996-03-25T00:00:00Z  1996-04-14T00:00:00Z  30      M   \n",
              "4   WC9796897  2005-06-22T13:00:00Z  2005-07-22T00:00:00Z  41      M   \n",
              "5   WC2603726  1990-08-29T08:00:00Z  1990-09-27T00:00:00Z  36      M   \n",
              "\n",
              "  MaritalStatus DependentChildren  DependentsOther WeeklyWages  \\\n",
              "1             M                 0              0.0         500   \n",
              "2             M                 0              0.0      509.34   \n",
              "3             U                 0              0.0       709.1   \n",
              "4             S                 0              0.0      555.46   \n",
              "5             M                 0              0.0       377.1   \n",
              "\n",
              "  PartTimeFullTime HoursWorkedPerWeek  DaysWorkedPerWeek  \\\n",
              "1                F                 38                5.0   \n",
              "2                F               37.5                5.0   \n",
              "3                F                 38                5.0   \n",
              "4                F                 38                5.0   \n",
              "5                F                 38                5.0   \n",
              "\n",
              "                                    ClaimDescription  \\\n",
              "1  LIFTING TYRE INJURY TO RIGHT ARM AND WRIST INJURY   \n",
              "2  STEPPED AROUND CRATES AND TRUCK TRAY FRACTURE ...   \n",
              "3                   CUT ON SHARP EDGE CUT LEFT THUMB   \n",
              "4               DIGGING LOWER BACK LOWER BACK STRAIN   \n",
              "5  REACHING ABOVE SHOULDER LEVEL ACUTE MUSCLE STR...   \n",
              "\n",
              "  InitialIncurredCalimsCost UltimateIncurredClaimCost  \n",
              "1                      1500               4748.203388  \n",
              "2                      5500               6326.285819  \n",
              "3                      1700               2293.949087  \n",
              "4                     15000               17786.48717  \n",
              "5                      2800               4014.002925  "
            ],
            "text/html": [
              "\n",
              "  <div id=\"df-90d523c4-0bf1-4042-9515-cda587b92ee2\">\n",
              "    <div class=\"colab-df-container\">\n",
              "      <div>\n",
              "<style scoped>\n",
              "    .dataframe tbody tr th:only-of-type {\n",
              "        vertical-align: middle;\n",
              "    }\n",
              "\n",
              "    .dataframe tbody tr th {\n",
              "        vertical-align: top;\n",
              "    }\n",
              "\n",
              "    .dataframe thead th {\n",
              "        text-align: right;\n",
              "    }\n",
              "</style>\n",
              "<table border=\"1\" class=\"dataframe\">\n",
              "  <thead>\n",
              "    <tr style=\"text-align: right;\">\n",
              "      <th></th>\n",
              "      <th>ClaimNumber</th>\n",
              "      <th>DateTimeOfAccident</th>\n",
              "      <th>DateReported</th>\n",
              "      <th>Age</th>\n",
              "      <th>Gender</th>\n",
              "      <th>MaritalStatus</th>\n",
              "      <th>DependentChildren</th>\n",
              "      <th>DependentsOther</th>\n",
              "      <th>WeeklyWages</th>\n",
              "      <th>PartTimeFullTime</th>\n",
              "      <th>HoursWorkedPerWeek</th>\n",
              "      <th>DaysWorkedPerWeek</th>\n",
              "      <th>ClaimDescription</th>\n",
              "      <th>InitialIncurredCalimsCost</th>\n",
              "      <th>UltimateIncurredClaimCost</th>\n",
              "    </tr>\n",
              "  </thead>\n",
              "  <tbody>\n",
              "    <tr>\n",
              "      <th>1</th>\n",
              "      <td>WC8205482</td>\n",
              "      <td>2002-04-09T07:00:00Z</td>\n",
              "      <td>2002-07-05T00:00:00Z</td>\n",
              "      <td>48</td>\n",
              "      <td>M</td>\n",
              "      <td>M</td>\n",
              "      <td>0</td>\n",
              "      <td>0.0</td>\n",
              "      <td>500</td>\n",
              "      <td>F</td>\n",
              "      <td>38</td>\n",
              "      <td>5.0</td>\n",
              "      <td>LIFTING TYRE INJURY TO RIGHT ARM AND WRIST INJURY</td>\n",
              "      <td>1500</td>\n",
              "      <td>4748.203388</td>\n",
              "    </tr>\n",
              "    <tr>\n",
              "      <th>2</th>\n",
              "      <td>WC6922469</td>\n",
              "      <td>1999-01-07T11:00:00Z</td>\n",
              "      <td>1999-01-20T00:00:00Z</td>\n",
              "      <td>43</td>\n",
              "      <td>F</td>\n",
              "      <td>M</td>\n",
              "      <td>0</td>\n",
              "      <td>0.0</td>\n",
              "      <td>509.34</td>\n",
              "      <td>F</td>\n",
              "      <td>37.5</td>\n",
              "      <td>5.0</td>\n",
              "      <td>STEPPED AROUND CRATES AND TRUCK TRAY FRACTURE ...</td>\n",
              "      <td>5500</td>\n",
              "      <td>6326.285819</td>\n",
              "    </tr>\n",
              "    <tr>\n",
              "      <th>3</th>\n",
              "      <td>WC5442654</td>\n",
              "      <td>1996-03-25T00:00:00Z</td>\n",
              "      <td>1996-04-14T00:00:00Z</td>\n",
              "      <td>30</td>\n",
              "      <td>M</td>\n",
              "      <td>U</td>\n",
              "      <td>0</td>\n",
              "      <td>0.0</td>\n",
              "      <td>709.1</td>\n",
              "      <td>F</td>\n",
              "      <td>38</td>\n",
              "      <td>5.0</td>\n",
              "      <td>CUT ON SHARP EDGE CUT LEFT THUMB</td>\n",
              "      <td>1700</td>\n",
              "      <td>2293.949087</td>\n",
              "    </tr>\n",
              "    <tr>\n",
              "      <th>4</th>\n",
              "      <td>WC9796897</td>\n",
              "      <td>2005-06-22T13:00:00Z</td>\n",
              "      <td>2005-07-22T00:00:00Z</td>\n",
              "      <td>41</td>\n",
              "      <td>M</td>\n",
              "      <td>S</td>\n",
              "      <td>0</td>\n",
              "      <td>0.0</td>\n",
              "      <td>555.46</td>\n",
              "      <td>F</td>\n",
              "      <td>38</td>\n",
              "      <td>5.0</td>\n",
              "      <td>DIGGING LOWER BACK LOWER BACK STRAIN</td>\n",
              "      <td>15000</td>\n",
              "      <td>17786.48717</td>\n",
              "    </tr>\n",
              "    <tr>\n",
              "      <th>5</th>\n",
              "      <td>WC2603726</td>\n",
              "      <td>1990-08-29T08:00:00Z</td>\n",
              "      <td>1990-09-27T00:00:00Z</td>\n",
              "      <td>36</td>\n",
              "      <td>M</td>\n",
              "      <td>M</td>\n",
              "      <td>0</td>\n",
              "      <td>0.0</td>\n",
              "      <td>377.1</td>\n",
              "      <td>F</td>\n",
              "      <td>38</td>\n",
              "      <td>5.0</td>\n",
              "      <td>REACHING ABOVE SHOULDER LEVEL ACUTE MUSCLE STR...</td>\n",
              "      <td>2800</td>\n",
              "      <td>4014.002925</td>\n",
              "    </tr>\n",
              "  </tbody>\n",
              "</table>\n",
              "</div>\n",
              "      <button class=\"colab-df-convert\" onclick=\"convertToInteractive('df-90d523c4-0bf1-4042-9515-cda587b92ee2')\"\n",
              "              title=\"Convert this dataframe to an interactive table.\"\n",
              "              style=\"display:none;\">\n",
              "        \n",
              "  <svg xmlns=\"http://www.w3.org/2000/svg\" height=\"24px\"viewBox=\"0 0 24 24\"\n",
              "       width=\"24px\">\n",
              "    <path d=\"M0 0h24v24H0V0z\" fill=\"none\"/>\n",
              "    <path d=\"M18.56 5.44l.94 2.06.94-2.06 2.06-.94-2.06-.94-.94-2.06-.94 2.06-2.06.94zm-11 1L8.5 8.5l.94-2.06 2.06-.94-2.06-.94L8.5 2.5l-.94 2.06-2.06.94zm10 10l.94 2.06.94-2.06 2.06-.94-2.06-.94-.94-2.06-.94 2.06-2.06.94z\"/><path d=\"M17.41 7.96l-1.37-1.37c-.4-.4-.92-.59-1.43-.59-.52 0-1.04.2-1.43.59L10.3 9.45l-7.72 7.72c-.78.78-.78 2.05 0 2.83L4 21.41c.39.39.9.59 1.41.59.51 0 1.02-.2 1.41-.59l7.78-7.78 2.81-2.81c.8-.78.8-2.07 0-2.86zM5.41 20L4 18.59l7.72-7.72 1.47 1.35L5.41 20z\"/>\n",
              "  </svg>\n",
              "      </button>\n",
              "      \n",
              "  <style>\n",
              "    .colab-df-container {\n",
              "      display:flex;\n",
              "      flex-wrap:wrap;\n",
              "      gap: 12px;\n",
              "    }\n",
              "\n",
              "    .colab-df-convert {\n",
              "      background-color: #E8F0FE;\n",
              "      border: none;\n",
              "      border-radius: 50%;\n",
              "      cursor: pointer;\n",
              "      display: none;\n",
              "      fill: #1967D2;\n",
              "      height: 32px;\n",
              "      padding: 0 0 0 0;\n",
              "      width: 32px;\n",
              "    }\n",
              "\n",
              "    .colab-df-convert:hover {\n",
              "      background-color: #E2EBFA;\n",
              "      box-shadow: 0px 1px 2px rgba(60, 64, 67, 0.3), 0px 1px 3px 1px rgba(60, 64, 67, 0.15);\n",
              "      fill: #174EA6;\n",
              "    }\n",
              "\n",
              "    [theme=dark] .colab-df-convert {\n",
              "      background-color: #3B4455;\n",
              "      fill: #D2E3FC;\n",
              "    }\n",
              "\n",
              "    [theme=dark] .colab-df-convert:hover {\n",
              "      background-color: #434B5C;\n",
              "      box-shadow: 0px 1px 3px 1px rgba(0, 0, 0, 0.15);\n",
              "      filter: drop-shadow(0px 1px 2px rgba(0, 0, 0, 0.3));\n",
              "      fill: #FFFFFF;\n",
              "    }\n",
              "  </style>\n",
              "\n",
              "      <script>\n",
              "        const buttonEl =\n",
              "          document.querySelector('#df-90d523c4-0bf1-4042-9515-cda587b92ee2 button.colab-df-convert');\n",
              "        buttonEl.style.display =\n",
              "          google.colab.kernel.accessAllowed ? 'block' : 'none';\n",
              "\n",
              "        async function convertToInteractive(key) {\n",
              "          const element = document.querySelector('#df-90d523c4-0bf1-4042-9515-cda587b92ee2');\n",
              "          const dataTable =\n",
              "            await google.colab.kernel.invokeFunction('convertToInteractive',\n",
              "                                                     [key], {});\n",
              "          if (!dataTable) return;\n",
              "\n",
              "          const docLinkHtml = 'Like what you see? Visit the ' +\n",
              "            '<a target=\"_blank\" href=https://colab.research.google.com/notebooks/data_table.ipynb>data table notebook</a>'\n",
              "            + ' to learn more about interactive tables.';\n",
              "          element.innerHTML = '';\n",
              "          dataTable['output_type'] = 'display_data';\n",
              "          await google.colab.output.renderOutput(dataTable, element);\n",
              "          const docLink = document.createElement('div');\n",
              "          docLink.innerHTML = docLinkHtml;\n",
              "          element.appendChild(docLink);\n",
              "        }\n",
              "      </script>\n",
              "    </div>\n",
              "  </div>\n",
              "  "
            ]
          },
          "metadata": {},
          "execution_count": 221
        }
      ],
      "source": [
        "df=df.drop(df.index[0])\n",
        "df.head()"
      ]
    },
    {
      "cell_type": "markdown",
      "id": "c4f76ebf",
      "metadata": {
        "id": "c4f76ebf"
      },
      "source": [
        "### Data Frame Summary"
      ]
    },
    {
      "cell_type": "code",
      "execution_count": 222,
      "id": "5cd4fc36",
      "metadata": {
        "colab": {
          "base_uri": "https://localhost:8080/"
        },
        "id": "5cd4fc36",
        "outputId": "87128fec-0c75-41b8-cf26-1522cfcab290"
      },
      "outputs": [
        {
          "output_type": "stream",
          "name": "stdout",
          "text": [
            "<class 'pandas.core.frame.DataFrame'>\n",
            "Int64Index: 36176 entries, 1 to 36176\n",
            "Data columns (total 15 columns):\n",
            " #   Column                     Non-Null Count  Dtype  \n",
            "---  ------                     --------------  -----  \n",
            " 0   ClaimNumber                36176 non-null  object \n",
            " 1   DateTimeOfAccident         36176 non-null  object \n",
            " 2   DateReported               36176 non-null  object \n",
            " 3   Age                        36176 non-null  object \n",
            " 4   Gender                     36176 non-null  object \n",
            " 5   MaritalStatus              36154 non-null  object \n",
            " 6   DependentChildren          36176 non-null  object \n",
            " 7   DependentsOther            36176 non-null  float64\n",
            " 8   WeeklyWages                36120 non-null  object \n",
            " 9   PartTimeFullTime           36176 non-null  object \n",
            " 10  HoursWorkedPerWeek         36127 non-null  object \n",
            " 11  DaysWorkedPerWeek          36176 non-null  float64\n",
            " 12  ClaimDescription           36176 non-null  object \n",
            " 13  InitialIncurredCalimsCost  36176 non-null  object \n",
            " 14  UltimateIncurredClaimCost  36176 non-null  object \n",
            "dtypes: float64(2), object(13)\n",
            "memory usage: 4.4+ MB\n"
          ]
        }
      ],
      "source": [
        "#for training data\n",
        "df.info()"
      ]
    },
    {
      "cell_type": "code",
      "execution_count": 223,
      "id": "91ff1a77",
      "metadata": {
        "colab": {
          "base_uri": "https://localhost:8080/"
        },
        "id": "91ff1a77",
        "outputId": "0d2ee1a0-a9f2-4d6f-b749-3d2d80ca2376"
      },
      "outputs": [
        {
          "output_type": "stream",
          "name": "stdout",
          "text": [
            "<class 'pandas.core.frame.DataFrame'>\n",
            "RangeIndex: 17824 entries, 0 to 17823\n",
            "Data columns (total 14 columns):\n",
            " #   Column                     Non-Null Count  Dtype  \n",
            "---  ------                     --------------  -----  \n",
            " 0   ClaimNumber                17824 non-null  object \n",
            " 1   DateTimeOfAccident         17824 non-null  object \n",
            " 2   DateReported               17824 non-null  object \n",
            " 3   Age                        17824 non-null  int64  \n",
            " 4   Gender                     17824 non-null  object \n",
            " 5   MaritalStatus              17817 non-null  object \n",
            " 6   DependentChildren          17824 non-null  int64  \n",
            " 7   DependentsOther            17824 non-null  int64  \n",
            " 8   WeeklyWages                17824 non-null  float64\n",
            " 9   PartTimeFullTime           17824 non-null  object \n",
            " 10  HoursWorkedPerWeek         17824 non-null  float64\n",
            " 11  DaysWorkedPerWeek          17824 non-null  int64  \n",
            " 12  ClaimDescription           17824 non-null  object \n",
            " 13  InitialIncurredCalimsCost  17824 non-null  int64  \n",
            "dtypes: float64(2), int64(5), object(7)\n",
            "memory usage: 1.9+ MB\n"
          ]
        }
      ],
      "source": [
        "#test data\n",
        "df1.info()"
      ]
    },
    {
      "cell_type": "code",
      "execution_count": 224,
      "id": "6fb0fa7f",
      "metadata": {
        "colab": {
          "base_uri": "https://localhost:8080/"
        },
        "id": "6fb0fa7f",
        "outputId": "3ea808ef-5eb0-4484-d35d-0cbec3191ee0"
      },
      "outputs": [
        {
          "output_type": "execute_result",
          "data": {
            "text/plain": [
              "Index(['ClaimNumber', 'DateTimeOfAccident', 'DateReported', 'Age', 'Gender',\n",
              "       'MaritalStatus', 'DependentChildren', 'WeeklyWages', 'PartTimeFullTime',\n",
              "       'HoursWorkedPerWeek', 'ClaimDescription', 'InitialIncurredCalimsCost',\n",
              "       'UltimateIncurredClaimCost'],\n",
              "      dtype='object')"
            ]
          },
          "metadata": {},
          "execution_count": 224
        }
      ],
      "source": [
        "#Checking for Categorical Data in train data\n",
        "df.select_dtypes(exclude=['int64','float64']).columns "
      ]
    },
    {
      "cell_type": "markdown",
      "id": "c2797fde",
      "metadata": {
        "id": "c2797fde"
      },
      "source": [
        "##### Changing the data type for some columns in train data"
      ]
    },
    {
      "cell_type": "code",
      "execution_count": 225,
      "id": "e3dd0745",
      "metadata": {
        "id": "e3dd0745"
      },
      "outputs": [],
      "source": [
        "df['Age'] = pd.to_numeric(df['Age']) \n",
        "df['DependentChildren'] = pd.to_numeric(df['DependentChildren'])\n",
        "df['DependentsOther'] = pd.to_numeric(df['DependentsOther'])\n",
        "df['WeeklyWages'] = pd.to_numeric(df['WeeklyWages'])\n",
        "df['HoursWorkedPerWeek'] = pd.to_numeric(df['HoursWorkedPerWeek'])\n",
        "df['DaysWorkedPerWeek'] = pd.to_numeric(df['DaysWorkedPerWeek'])\n",
        "df['InitialIncurredCalimsCost'] = pd.to_numeric(df['InitialIncurredCalimsCost'])\n",
        "df['UltimateIncurredClaimCost'] = pd.to_numeric(df['UltimateIncurredClaimCost'])"
      ]
    },
    {
      "cell_type": "markdown",
      "id": "e5207489",
      "metadata": {
        "id": "e5207489"
      },
      "source": [
        "##### To check if the data type changed or not "
      ]
    },
    {
      "cell_type": "code",
      "execution_count": 226,
      "id": "dff1631b",
      "metadata": {
        "colab": {
          "base_uri": "https://localhost:8080/"
        },
        "id": "dff1631b",
        "outputId": "a88ec73f-d80f-449a-b0b6-204a33377994"
      },
      "outputs": [
        {
          "output_type": "stream",
          "name": "stdout",
          "text": [
            "<class 'pandas.core.frame.DataFrame'>\n",
            "Int64Index: 36176 entries, 1 to 36176\n",
            "Data columns (total 15 columns):\n",
            " #   Column                     Non-Null Count  Dtype  \n",
            "---  ------                     --------------  -----  \n",
            " 0   ClaimNumber                36176 non-null  object \n",
            " 1   DateTimeOfAccident         36176 non-null  object \n",
            " 2   DateReported               36176 non-null  object \n",
            " 3   Age                        36176 non-null  int64  \n",
            " 4   Gender                     36176 non-null  object \n",
            " 5   MaritalStatus              36154 non-null  object \n",
            " 6   DependentChildren          36176 non-null  int64  \n",
            " 7   DependentsOther            36176 non-null  float64\n",
            " 8   WeeklyWages                36120 non-null  float64\n",
            " 9   PartTimeFullTime           36176 non-null  object \n",
            " 10  HoursWorkedPerWeek         36127 non-null  float64\n",
            " 11  DaysWorkedPerWeek          36176 non-null  float64\n",
            " 12  ClaimDescription           36176 non-null  object \n",
            " 13  InitialIncurredCalimsCost  36176 non-null  int64  \n",
            " 14  UltimateIncurredClaimCost  36176 non-null  float64\n",
            "dtypes: float64(5), int64(3), object(7)\n",
            "memory usage: 4.4+ MB\n"
          ]
        }
      ],
      "source": [
        "df.info()"
      ]
    },
    {
      "cell_type": "code",
      "execution_count": 227,
      "id": "e2861665",
      "metadata": {
        "scrolled": true,
        "colab": {
          "base_uri": "https://localhost:8080/",
          "height": 343
        },
        "id": "e2861665",
        "outputId": "6e3d7c90-3b72-466b-85f6-2896ce8e9891"
      },
      "outputs": [
        {
          "output_type": "execute_result",
          "data": {
            "text/plain": [
              "                Age  DependentChildren  DependentsOther   WeeklyWages  \\\n",
              "count  36176.000000       36176.000000     36176.000000  36120.000000   \n",
              "mean      33.795196           0.121296         0.009537    416.471426   \n",
              "std       12.114729           0.525395         0.106163    243.875364   \n",
              "min       13.000000           0.000000         0.000000      1.000000   \n",
              "25%       23.000000           0.000000         0.000000    200.000000   \n",
              "50%       32.000000           0.000000         0.000000    393.365000   \n",
              "75%       43.000000           0.000000         0.000000    500.000000   \n",
              "max       79.000000           9.000000         3.000000   7497.000000   \n",
              "\n",
              "       HoursWorkedPerWeek  DaysWorkedPerWeek  InitialIncurredCalimsCost  \\\n",
              "count        36127.000000       36176.000000               36176.000000   \n",
              "mean            37.766820           4.905794                7743.593874   \n",
              "std             12.494323           0.547077               18223.698531   \n",
              "min              0.000000           1.000000                   1.000000   \n",
              "25%             38.000000           5.000000                 700.000000   \n",
              "50%             38.000000           5.000000                2000.000000   \n",
              "75%             40.000000           5.000000                9500.000000   \n",
              "max            640.000000           7.000000              830000.000000   \n",
              "\n",
              "       UltimateIncurredClaimCost  \n",
              "count               3.617600e+04  \n",
              "mean                1.095282e+04  \n",
              "std                 3.529614e+04  \n",
              "min                 1.218868e+02  \n",
              "25%                 9.257424e+02  \n",
              "50%                 3.373862e+03  \n",
              "75%                 8.186852e+03  \n",
              "max                 4.027136e+06  "
            ],
            "text/html": [
              "\n",
              "  <div id=\"df-504c39a9-de59-4b95-802d-0cd533959616\">\n",
              "    <div class=\"colab-df-container\">\n",
              "      <div>\n",
              "<style scoped>\n",
              "    .dataframe tbody tr th:only-of-type {\n",
              "        vertical-align: middle;\n",
              "    }\n",
              "\n",
              "    .dataframe tbody tr th {\n",
              "        vertical-align: top;\n",
              "    }\n",
              "\n",
              "    .dataframe thead th {\n",
              "        text-align: right;\n",
              "    }\n",
              "</style>\n",
              "<table border=\"1\" class=\"dataframe\">\n",
              "  <thead>\n",
              "    <tr style=\"text-align: right;\">\n",
              "      <th></th>\n",
              "      <th>Age</th>\n",
              "      <th>DependentChildren</th>\n",
              "      <th>DependentsOther</th>\n",
              "      <th>WeeklyWages</th>\n",
              "      <th>HoursWorkedPerWeek</th>\n",
              "      <th>DaysWorkedPerWeek</th>\n",
              "      <th>InitialIncurredCalimsCost</th>\n",
              "      <th>UltimateIncurredClaimCost</th>\n",
              "    </tr>\n",
              "  </thead>\n",
              "  <tbody>\n",
              "    <tr>\n",
              "      <th>count</th>\n",
              "      <td>36176.000000</td>\n",
              "      <td>36176.000000</td>\n",
              "      <td>36176.000000</td>\n",
              "      <td>36120.000000</td>\n",
              "      <td>36127.000000</td>\n",
              "      <td>36176.000000</td>\n",
              "      <td>36176.000000</td>\n",
              "      <td>3.617600e+04</td>\n",
              "    </tr>\n",
              "    <tr>\n",
              "      <th>mean</th>\n",
              "      <td>33.795196</td>\n",
              "      <td>0.121296</td>\n",
              "      <td>0.009537</td>\n",
              "      <td>416.471426</td>\n",
              "      <td>37.766820</td>\n",
              "      <td>4.905794</td>\n",
              "      <td>7743.593874</td>\n",
              "      <td>1.095282e+04</td>\n",
              "    </tr>\n",
              "    <tr>\n",
              "      <th>std</th>\n",
              "      <td>12.114729</td>\n",
              "      <td>0.525395</td>\n",
              "      <td>0.106163</td>\n",
              "      <td>243.875364</td>\n",
              "      <td>12.494323</td>\n",
              "      <td>0.547077</td>\n",
              "      <td>18223.698531</td>\n",
              "      <td>3.529614e+04</td>\n",
              "    </tr>\n",
              "    <tr>\n",
              "      <th>min</th>\n",
              "      <td>13.000000</td>\n",
              "      <td>0.000000</td>\n",
              "      <td>0.000000</td>\n",
              "      <td>1.000000</td>\n",
              "      <td>0.000000</td>\n",
              "      <td>1.000000</td>\n",
              "      <td>1.000000</td>\n",
              "      <td>1.218868e+02</td>\n",
              "    </tr>\n",
              "    <tr>\n",
              "      <th>25%</th>\n",
              "      <td>23.000000</td>\n",
              "      <td>0.000000</td>\n",
              "      <td>0.000000</td>\n",
              "      <td>200.000000</td>\n",
              "      <td>38.000000</td>\n",
              "      <td>5.000000</td>\n",
              "      <td>700.000000</td>\n",
              "      <td>9.257424e+02</td>\n",
              "    </tr>\n",
              "    <tr>\n",
              "      <th>50%</th>\n",
              "      <td>32.000000</td>\n",
              "      <td>0.000000</td>\n",
              "      <td>0.000000</td>\n",
              "      <td>393.365000</td>\n",
              "      <td>38.000000</td>\n",
              "      <td>5.000000</td>\n",
              "      <td>2000.000000</td>\n",
              "      <td>3.373862e+03</td>\n",
              "    </tr>\n",
              "    <tr>\n",
              "      <th>75%</th>\n",
              "      <td>43.000000</td>\n",
              "      <td>0.000000</td>\n",
              "      <td>0.000000</td>\n",
              "      <td>500.000000</td>\n",
              "      <td>40.000000</td>\n",
              "      <td>5.000000</td>\n",
              "      <td>9500.000000</td>\n",
              "      <td>8.186852e+03</td>\n",
              "    </tr>\n",
              "    <tr>\n",
              "      <th>max</th>\n",
              "      <td>79.000000</td>\n",
              "      <td>9.000000</td>\n",
              "      <td>3.000000</td>\n",
              "      <td>7497.000000</td>\n",
              "      <td>640.000000</td>\n",
              "      <td>7.000000</td>\n",
              "      <td>830000.000000</td>\n",
              "      <td>4.027136e+06</td>\n",
              "    </tr>\n",
              "  </tbody>\n",
              "</table>\n",
              "</div>\n",
              "      <button class=\"colab-df-convert\" onclick=\"convertToInteractive('df-504c39a9-de59-4b95-802d-0cd533959616')\"\n",
              "              title=\"Convert this dataframe to an interactive table.\"\n",
              "              style=\"display:none;\">\n",
              "        \n",
              "  <svg xmlns=\"http://www.w3.org/2000/svg\" height=\"24px\"viewBox=\"0 0 24 24\"\n",
              "       width=\"24px\">\n",
              "    <path d=\"M0 0h24v24H0V0z\" fill=\"none\"/>\n",
              "    <path d=\"M18.56 5.44l.94 2.06.94-2.06 2.06-.94-2.06-.94-.94-2.06-.94 2.06-2.06.94zm-11 1L8.5 8.5l.94-2.06 2.06-.94-2.06-.94L8.5 2.5l-.94 2.06-2.06.94zm10 10l.94 2.06.94-2.06 2.06-.94-2.06-.94-.94-2.06-.94 2.06-2.06.94z\"/><path d=\"M17.41 7.96l-1.37-1.37c-.4-.4-.92-.59-1.43-.59-.52 0-1.04.2-1.43.59L10.3 9.45l-7.72 7.72c-.78.78-.78 2.05 0 2.83L4 21.41c.39.39.9.59 1.41.59.51 0 1.02-.2 1.41-.59l7.78-7.78 2.81-2.81c.8-.78.8-2.07 0-2.86zM5.41 20L4 18.59l7.72-7.72 1.47 1.35L5.41 20z\"/>\n",
              "  </svg>\n",
              "      </button>\n",
              "      \n",
              "  <style>\n",
              "    .colab-df-container {\n",
              "      display:flex;\n",
              "      flex-wrap:wrap;\n",
              "      gap: 12px;\n",
              "    }\n",
              "\n",
              "    .colab-df-convert {\n",
              "      background-color: #E8F0FE;\n",
              "      border: none;\n",
              "      border-radius: 50%;\n",
              "      cursor: pointer;\n",
              "      display: none;\n",
              "      fill: #1967D2;\n",
              "      height: 32px;\n",
              "      padding: 0 0 0 0;\n",
              "      width: 32px;\n",
              "    }\n",
              "\n",
              "    .colab-df-convert:hover {\n",
              "      background-color: #E2EBFA;\n",
              "      box-shadow: 0px 1px 2px rgba(60, 64, 67, 0.3), 0px 1px 3px 1px rgba(60, 64, 67, 0.15);\n",
              "      fill: #174EA6;\n",
              "    }\n",
              "\n",
              "    [theme=dark] .colab-df-convert {\n",
              "      background-color: #3B4455;\n",
              "      fill: #D2E3FC;\n",
              "    }\n",
              "\n",
              "    [theme=dark] .colab-df-convert:hover {\n",
              "      background-color: #434B5C;\n",
              "      box-shadow: 0px 1px 3px 1px rgba(0, 0, 0, 0.15);\n",
              "      filter: drop-shadow(0px 1px 2px rgba(0, 0, 0, 0.3));\n",
              "      fill: #FFFFFF;\n",
              "    }\n",
              "  </style>\n",
              "\n",
              "      <script>\n",
              "        const buttonEl =\n",
              "          document.querySelector('#df-504c39a9-de59-4b95-802d-0cd533959616 button.colab-df-convert');\n",
              "        buttonEl.style.display =\n",
              "          google.colab.kernel.accessAllowed ? 'block' : 'none';\n",
              "\n",
              "        async function convertToInteractive(key) {\n",
              "          const element = document.querySelector('#df-504c39a9-de59-4b95-802d-0cd533959616');\n",
              "          const dataTable =\n",
              "            await google.colab.kernel.invokeFunction('convertToInteractive',\n",
              "                                                     [key], {});\n",
              "          if (!dataTable) return;\n",
              "\n",
              "          const docLinkHtml = 'Like what you see? Visit the ' +\n",
              "            '<a target=\"_blank\" href=https://colab.research.google.com/notebooks/data_table.ipynb>data table notebook</a>'\n",
              "            + ' to learn more about interactive tables.';\n",
              "          element.innerHTML = '';\n",
              "          dataTable['output_type'] = 'display_data';\n",
              "          await google.colab.output.renderOutput(dataTable, element);\n",
              "          const docLink = document.createElement('div');\n",
              "          docLink.innerHTML = docLinkHtml;\n",
              "          element.appendChild(docLink);\n",
              "        }\n",
              "      </script>\n",
              "    </div>\n",
              "  </div>\n",
              "  "
            ]
          },
          "metadata": {},
          "execution_count": 227
        }
      ],
      "source": [
        " #checking the description of train data\n",
        "df.describe()"
      ]
    },
    {
      "cell_type": "markdown",
      "id": "5aa72d27",
      "metadata": {
        "id": "5aa72d27"
      },
      "source": [
        "##### Working on the train data"
      ]
    },
    {
      "cell_type": "markdown",
      "id": "52fe6b4b",
      "metadata": {
        "id": "52fe6b4b"
      },
      "source": [
        "##### Checking the shape of dataset"
      ]
    },
    {
      "cell_type": "code",
      "execution_count": 228,
      "id": "c38cfe40",
      "metadata": {
        "colab": {
          "base_uri": "https://localhost:8080/"
        },
        "id": "c38cfe40",
        "outputId": "f723966d-78ca-427e-9030-26097fb4f774"
      },
      "outputs": [
        {
          "output_type": "execute_result",
          "data": {
            "text/plain": [
              "(36176, 15)"
            ]
          },
          "metadata": {},
          "execution_count": 228
        }
      ],
      "source": [
        "df.shape "
      ]
    },
    {
      "cell_type": "markdown",
      "id": "55e7e107",
      "metadata": {
        "id": "55e7e107"
      },
      "source": [
        "##### Checking for duplicate values"
      ]
    },
    {
      "cell_type": "code",
      "execution_count": 229,
      "id": "47172d90",
      "metadata": {
        "colab": {
          "base_uri": "https://localhost:8080/"
        },
        "id": "47172d90",
        "outputId": "16c3a666-7d66-478f-ac25-14761c582ded"
      },
      "outputs": [
        {
          "output_type": "execute_result",
          "data": {
            "text/plain": [
              "0"
            ]
          },
          "metadata": {},
          "execution_count": 229
        }
      ],
      "source": [
        "df.duplicated().sum() "
      ]
    },
    {
      "cell_type": "markdown",
      "id": "653a2290",
      "metadata": {
        "id": "653a2290"
      },
      "source": [
        "##### Checking for missing values"
      ]
    },
    {
      "cell_type": "code",
      "execution_count": 230,
      "id": "a84fdaad",
      "metadata": {
        "colab": {
          "base_uri": "https://localhost:8080/"
        },
        "id": "a84fdaad",
        "outputId": "b9280a36-3820-4f11-c263-a7c6b554ebe1"
      },
      "outputs": [
        {
          "output_type": "execute_result",
          "data": {
            "text/plain": [
              "ClaimNumber                   0\n",
              "DateTimeOfAccident            0\n",
              "DateReported                  0\n",
              "Age                           0\n",
              "Gender                        0\n",
              "MaritalStatus                22\n",
              "DependentChildren             0\n",
              "DependentsOther               0\n",
              "WeeklyWages                  56\n",
              "PartTimeFullTime              0\n",
              "HoursWorkedPerWeek           49\n",
              "DaysWorkedPerWeek             0\n",
              "ClaimDescription              0\n",
              "InitialIncurredCalimsCost     0\n",
              "UltimateIncurredClaimCost     0\n",
              "dtype: int64"
            ]
          },
          "metadata": {},
          "execution_count": 230
        }
      ],
      "source": [
        "df.isnull().sum()"
      ]
    },
    {
      "cell_type": "markdown",
      "id": "7d15aefa",
      "metadata": {
        "id": "7d15aefa"
      },
      "source": [
        "##### Using mean and mode imputation to treating the missing values "
      ]
    },
    {
      "cell_type": "code",
      "execution_count": 231,
      "id": "96e947dd",
      "metadata": {
        "id": "96e947dd"
      },
      "outputs": [],
      "source": [
        "df['WeeklyWages']=df['WeeklyWages'].fillna(df['WeeklyWages'].mean())\n",
        "df['HoursWorkedPerWeek']=df['HoursWorkedPerWeek'].fillna(df['HoursWorkedPerWeek'].mean())\n",
        "df['MaritalStatus']=df['MaritalStatus'].fillna(df['MaritalStatus'].mode()[0])"
      ]
    },
    {
      "cell_type": "code",
      "execution_count": 232,
      "id": "dd3d3f50",
      "metadata": {
        "colab": {
          "base_uri": "https://localhost:8080/"
        },
        "id": "dd3d3f50",
        "outputId": "8fae1915-da8d-45f2-a00a-3e62e5edb810"
      },
      "outputs": [
        {
          "output_type": "execute_result",
          "data": {
            "text/plain": [
              "ClaimNumber                  0\n",
              "DateTimeOfAccident           0\n",
              "DateReported                 0\n",
              "Age                          0\n",
              "Gender                       0\n",
              "MaritalStatus                0\n",
              "DependentChildren            0\n",
              "DependentsOther              0\n",
              "WeeklyWages                  0\n",
              "PartTimeFullTime             0\n",
              "HoursWorkedPerWeek           0\n",
              "DaysWorkedPerWeek            0\n",
              "ClaimDescription             0\n",
              "InitialIncurredCalimsCost    0\n",
              "UltimateIncurredClaimCost    0\n",
              "dtype: int64"
            ]
          },
          "metadata": {},
          "execution_count": 232
        }
      ],
      "source": [
        "#To verify if there are any more missing values\n",
        "df.isnull().sum()"
      ]
    },
    {
      "cell_type": "markdown",
      "id": "ed995432",
      "metadata": {
        "id": "ed995432"
      },
      "source": [
        "##### Now there are no missing values "
      ]
    },
    {
      "cell_type": "markdown",
      "id": "e30066e6",
      "metadata": {
        "id": "e30066e6"
      },
      "source": [
        "##### Dividing the data into categorical and numerical data"
      ]
    },
    {
      "cell_type": "code",
      "execution_count": 233,
      "id": "e2bd20a7",
      "metadata": {
        "id": "e2bd20a7"
      },
      "outputs": [],
      "source": [
        "df_num=df[{'Age','DependentChildren', 'DependentsOther', 'WeeklyWages', 'HoursWorkedPerWeek', 'DaysWorkedPerWeek',\n",
        "           'InitialIncurredCalimsCost','UltimateIncurredClaimCost', }]\n",
        "df_cat=df[{'ClaimNumber', 'DateTimeOfAccident', 'DateReported','Gender' ,'MaritalStatus','PartTimeFullTime','ClaimDescription'}]"
      ]
    },
    {
      "cell_type": "markdown",
      "id": "d89939dc",
      "metadata": {
        "id": "d89939dc"
      },
      "source": [
        "##### For understanding categorical data \n"
      ]
    },
    {
      "cell_type": "code",
      "execution_count": 234,
      "id": "deb3f8d6",
      "metadata": {
        "colab": {
          "base_uri": "https://localhost:8080/"
        },
        "id": "deb3f8d6",
        "outputId": "08a48617-33a0-46b5-c8ee-591249f87b7c"
      },
      "outputs": [
        {
          "output_type": "execute_result",
          "data": {
            "text/plain": [
              "S    17472\n",
              "M    15162\n",
              "U     3542\n",
              "Name: MaritalStatus, dtype: int64"
            ]
          },
          "metadata": {},
          "execution_count": 234
        }
      ],
      "source": [
        "df['MaritalStatus'].value_counts()"
      ]
    },
    {
      "cell_type": "code",
      "execution_count": 235,
      "id": "137f3dad",
      "metadata": {
        "colab": {
          "base_uri": "https://localhost:8080/"
        },
        "id": "137f3dad",
        "outputId": "d58dcd56-6d56-40fc-b91f-cb0d12f0a0f8"
      },
      "outputs": [
        {
          "output_type": "execute_result",
          "data": {
            "text/plain": [
              "M    27919\n",
              "F     8256\n",
              "U        1\n",
              "Name: Gender, dtype: int64"
            ]
          },
          "metadata": {},
          "execution_count": 235
        }
      ],
      "source": [
        "df['Gender'].value_counts()"
      ]
    },
    {
      "cell_type": "code",
      "execution_count": 236,
      "id": "cedb75c3",
      "metadata": {
        "colab": {
          "base_uri": "https://localhost:8080/"
        },
        "id": "cedb75c3",
        "outputId": "4285ec7f-7d80-4f7f-f925-6dbd01d0a85d"
      },
      "outputs": [
        {
          "output_type": "execute_result",
          "data": {
            "text/plain": [
              "F    32917\n",
              "P     3259\n",
              "Name: PartTimeFullTime, dtype: int64"
            ]
          },
          "metadata": {},
          "execution_count": 236
        }
      ],
      "source": [
        "df['PartTimeFullTime'].value_counts()"
      ]
    },
    {
      "cell_type": "code",
      "execution_count": 237,
      "id": "701bee2b",
      "metadata": {
        "colab": {
          "base_uri": "https://localhost:8080/"
        },
        "id": "701bee2b",
        "outputId": "e6131e7d-cf4e-4c2a-c499-0a34691b2727"
      },
      "outputs": [
        {
          "output_type": "execute_result",
          "data": {
            "text/plain": [
              "20596"
            ]
          },
          "metadata": {},
          "execution_count": 237
        }
      ],
      "source": [
        "df['ClaimDescription'].nunique()"
      ]
    },
    {
      "cell_type": "markdown",
      "id": "f8074007",
      "metadata": {
        "id": "f8074007"
      },
      "source": [
        "##### There are 20596 unique claims made."
      ]
    },
    {
      "cell_type": "code",
      "execution_count": 238,
      "id": "218ca57c",
      "metadata": {
        "colab": {
          "base_uri": "https://localhost:8080/"
        },
        "id": "218ca57c",
        "outputId": "cb168ce8-e976-4ae0-b433-a21aeb5a0404"
      },
      "outputs": [
        {
          "output_type": "execute_result",
          "data": {
            "text/plain": [
              "36176"
            ]
          },
          "metadata": {},
          "execution_count": 238
        }
      ],
      "source": [
        "df.ClaimNumber.count()"
      ]
    },
    {
      "cell_type": "markdown",
      "id": "e9dba1ed",
      "metadata": {
        "id": "e9dba1ed"
      },
      "source": [
        "##### The total number of claims filed is 36176."
      ]
    },
    {
      "cell_type": "code",
      "execution_count": 239,
      "id": "73185d2f",
      "metadata": {
        "colab": {
          "base_uri": "https://localhost:8080/"
        },
        "id": "73185d2f",
        "outputId": "c9eb7380-7cde-474e-9b53-acacb1022957"
      },
      "outputs": [
        {
          "output_type": "execute_result",
          "data": {
            "text/plain": [
              "29456"
            ]
          },
          "metadata": {},
          "execution_count": 239
        }
      ],
      "source": [
        "df['ClaimNumber'].nunique()"
      ]
    },
    {
      "cell_type": "markdown",
      "id": "f855f7a4",
      "metadata": {
        "id": "f855f7a4"
      },
      "source": [
        "##### The total number of claims that were filed is 36176 but number of unique claims are 29456."
      ]
    },
    {
      "cell_type": "markdown",
      "id": "4a9fb2c7",
      "metadata": {
        "id": "4a9fb2c7"
      },
      "source": [
        "### Data Transformation"
      ]
    },
    {
      "cell_type": "markdown",
      "id": "3e5925c7",
      "metadata": {
        "id": "3e5925c7"
      },
      "source": [
        "#### Data  binning"
      ]
    },
    {
      "cell_type": "code",
      "execution_count": 240,
      "id": "9fb235d5",
      "metadata": {
        "colab": {
          "base_uri": "https://localhost:8080/"
        },
        "id": "9fb235d5",
        "outputId": "7c70fc47-affb-43cf-db52-48d412ead11e"
      },
      "outputs": [
        {
          "output_type": "execute_result",
          "data": {
            "text/plain": [
              "<bound method IndexOpsMixin.value_counts of 1        48\n",
              "2        43\n",
              "3        30\n",
              "4        41\n",
              "5        36\n",
              "         ..\n",
              "36172    20\n",
              "36173    35\n",
              "36174    52\n",
              "36175    28\n",
              "36176    29\n",
              "Name: Age, Length: 36176, dtype: int64>"
            ]
          },
          "metadata": {},
          "execution_count": 240
        }
      ],
      "source": [
        "df['Age'].value_counts"
      ]
    },
    {
      "cell_type": "code",
      "execution_count": 241,
      "id": "46dcd34b",
      "metadata": {
        "colab": {
          "base_uri": "https://localhost:8080/"
        },
        "id": "46dcd34b",
        "outputId": "f9297b7d-2f9c-4447-c12a-965283361bf1"
      },
      "outputs": [
        {
          "output_type": "execute_result",
          "data": {
            "text/plain": [
              "13"
            ]
          },
          "metadata": {},
          "execution_count": 241
        }
      ],
      "source": [
        "df['Age'].min()"
      ]
    },
    {
      "cell_type": "code",
      "execution_count": 242,
      "id": "53a6ce39",
      "metadata": {
        "colab": {
          "base_uri": "https://localhost:8080/"
        },
        "id": "53a6ce39",
        "outputId": "53ff7637-765b-42ae-e3a3-db68379cf0be"
      },
      "outputs": [
        {
          "output_type": "execute_result",
          "data": {
            "text/plain": [
              "79"
            ]
          },
          "metadata": {},
          "execution_count": 242
        }
      ],
      "source": [
        "df['Age'].max()"
      ]
    },
    {
      "cell_type": "code",
      "execution_count": 243,
      "id": "e4f8cca0",
      "metadata": {
        "colab": {
          "base_uri": "https://localhost:8080/"
        },
        "id": "e4f8cca0",
        "outputId": "1e0ea337-a1d3-47c1-9b69-33e6be828608"
      },
      "outputs": [
        {
          "output_type": "execute_result",
          "data": {
            "text/plain": [
              "1        Middle-Age\n",
              "2        Middle-Age\n",
              "3        Middle-Age\n",
              "4        Middle-Age\n",
              "5        Middle-Age\n",
              "            ...    \n",
              "36172         Young\n",
              "36173    Middle-Age\n",
              "36174           Old\n",
              "36175    Middle-Age\n",
              "36176    Middle-Age\n",
              "Name: Age_Bin, Length: 36176, dtype: category\n",
              "Categories (3, object): ['Young' < 'Middle-Age' < 'Old']"
            ]
          },
          "metadata": {},
          "execution_count": 243
        }
      ],
      "source": [
        "df['Age_Bin']=pd.cut(df['Age'],bins=[1,25,50,80] , labels=['Young','Middle-Age','Old'])\n",
        "df['Age_Bin']"
      ]
    },
    {
      "cell_type": "code",
      "execution_count": 244,
      "id": "9a19464f",
      "metadata": {
        "colab": {
          "base_uri": "https://localhost:8080/"
        },
        "id": "9a19464f",
        "outputId": "3b11aae2-4232-4120-8a56-c98a66ff0d4d"
      },
      "outputs": [
        {
          "output_type": "execute_result",
          "data": {
            "text/plain": [
              "<bound method IndexOpsMixin.value_counts of 1         500.00\n",
              "2         509.34\n",
              "3         709.10\n",
              "4         555.46\n",
              "5         377.10\n",
              "          ...   \n",
              "36172     344.16\n",
              "36173    1668.83\n",
              "36174     204.87\n",
              "36175     730.87\n",
              "36176     200.00\n",
              "Name: WeeklyWages, Length: 36176, dtype: float64>"
            ]
          },
          "metadata": {},
          "execution_count": 244
        }
      ],
      "source": [
        "df['WeeklyWages'].value_counts"
      ]
    },
    {
      "cell_type": "code",
      "execution_count": 245,
      "id": "3de4e8c3",
      "metadata": {
        "colab": {
          "base_uri": "https://localhost:8080/"
        },
        "id": "3de4e8c3",
        "outputId": "888d5d12-909e-46d9-b4b2-0d8132e39d9f"
      },
      "outputs": [
        {
          "output_type": "execute_result",
          "data": {
            "text/plain": [
              "7497.0"
            ]
          },
          "metadata": {},
          "execution_count": 245
        }
      ],
      "source": [
        "df['WeeklyWages'].max()"
      ]
    },
    {
      "cell_type": "code",
      "execution_count": 246,
      "id": "abb4c746",
      "metadata": {
        "colab": {
          "base_uri": "https://localhost:8080/"
        },
        "id": "abb4c746",
        "outputId": "b6187277-7f78-4b09-bbba-8993a7fcdef1"
      },
      "outputs": [
        {
          "output_type": "execute_result",
          "data": {
            "text/plain": [
              "1.0"
            ]
          },
          "metadata": {},
          "execution_count": 246
        }
      ],
      "source": [
        "df['WeeklyWages'].min()"
      ]
    },
    {
      "cell_type": "code",
      "execution_count": 247,
      "id": "3784f1ef",
      "metadata": {
        "colab": {
          "base_uri": "https://localhost:8080/"
        },
        "id": "3784f1ef",
        "outputId": "2929b9a6-5476-4129-dfae-0b7b4167f78e"
      },
      "outputs": [
        {
          "output_type": "execute_result",
          "data": {
            "text/plain": [
              "1                  Low\n",
              "2                  Low\n",
              "3                  Low\n",
              "4                  Low\n",
              "5                  Low\n",
              "             ...      \n",
              "36172              Low\n",
              "36173    Below Average\n",
              "36174              Low\n",
              "36175              Low\n",
              "36176              Low\n",
              "Name: WeeklyWages_Bin, Length: 36176, dtype: category\n",
              "Categories (5, object): ['Low' < 'Below Average' < 'Average Wage' < 'Above Average' < 'High']"
            ]
          },
          "metadata": {},
          "execution_count": 247
        }
      ],
      "source": [
        "df['WeeklyWages_Bin']=pd.cut(df['WeeklyWages'],bins=[0,1000,2000,4000,7000,8000] , labels=['Low','Below Average','Average Wage','Above Average','High'])\n",
        "df['WeeklyWages_Bin']"
      ]
    },
    {
      "cell_type": "markdown",
      "id": "d7e159dd",
      "metadata": {
        "id": "d7e159dd"
      },
      "source": [
        " ## Exploratory Data Analysis : Univariate Analysis"
      ]
    },
    {
      "cell_type": "code",
      "execution_count": 248,
      "id": "291d99ee",
      "metadata": {
        "colab": {
          "base_uri": "https://localhost:8080/"
        },
        "id": "291d99ee",
        "outputId": "f837e8a4-7d50-4cfc-b2c7-e134c1bea812"
      },
      "outputs": [
        {
          "output_type": "execute_result",
          "data": {
            "text/plain": [
              "count    3.617600e+04\n",
              "mean     1.095282e+04\n",
              "std      3.529614e+04\n",
              "min      1.218868e+02\n",
              "25%      9.257424e+02\n",
              "50%      3.373862e+03\n",
              "75%      8.186852e+03\n",
              "max      4.027136e+06\n",
              "Name: UltimateIncurredClaimCost, dtype: float64"
            ]
          },
          "metadata": {},
          "execution_count": 248
        }
      ],
      "source": [
        "#Checking the target variable \n",
        "df['UltimateIncurredClaimCost'].describe()"
      ]
    },
    {
      "cell_type": "code",
      "execution_count": 249,
      "id": "bf34f8a7",
      "metadata": {
        "colab": {
          "base_uri": "https://localhost:8080/",
          "height": 351
        },
        "id": "bf34f8a7",
        "outputId": "9299d052-2e2b-4508-f404-4ac6dc19a4a9"
      },
      "outputs": [
        {
          "output_type": "stream",
          "name": "stderr",
          "text": [
            "/usr/local/lib/python3.7/dist-packages/seaborn/distributions.py:2619: FutureWarning: `distplot` is a deprecated function and will be removed in a future version. Please adapt your code to use either `displot` (a figure-level function with similar flexibility) or `histplot` (an axes-level function for histograms).\n",
            "  warnings.warn(msg, FutureWarning)\n"
          ]
        },
        {
          "output_type": "execute_result",
          "data": {
            "text/plain": [
              "<matplotlib.axes._subplots.AxesSubplot at 0x7f6bc45940d0>"
            ]
          },
          "metadata": {},
          "execution_count": 249
        },
        {
          "output_type": "display_data",
          "data": {
            "text/plain": [
              "<Figure size 432x288 with 1 Axes>"
            ],
            "image/png": "[encoded data removed]"
          },
          "metadata": {
            "needs_background": "light"
          }
        }
      ],
      "source": [
        "#Checking the skewness of the target variable \n",
        "df['UltimateIncurredClaimCost'].hist(bins=50)\n",
        "sns.distplot(df['UltimateIncurredClaimCost'])"
      ]
    },
    {
      "cell_type": "markdown",
      "id": "44a582cd",
      "metadata": {
        "id": "44a582cd"
      },
      "source": [
        "##### The data for UltimateIncurredClaimCost is right skewed."
      ]
    },
    {
      "cell_type": "code",
      "execution_count": 250,
      "id": "7c797029",
      "metadata": {
        "colab": {
          "base_uri": "https://localhost:8080/"
        },
        "id": "7c797029",
        "outputId": "dadda57c-0e6b-4ee5-8429-f590b5fb3a63"
      },
      "outputs": [
        {
          "output_type": "execute_result",
          "data": {
            "text/plain": [
              "count     36176.000000\n",
              "mean       7743.593874\n",
              "std       18223.698531\n",
              "min           1.000000\n",
              "25%         700.000000\n",
              "50%        2000.000000\n",
              "75%        9500.000000\n",
              "max      830000.000000\n",
              "Name: InitialIncurredCalimsCost, dtype: float64"
            ]
          },
          "metadata": {},
          "execution_count": 250
        }
      ],
      "source": [
        "df['InitialIncurredCalimsCost'].describe()"
      ]
    },
    {
      "cell_type": "code",
      "execution_count": 251,
      "id": "fccc9487",
      "metadata": {
        "scrolled": true,
        "colab": {
          "base_uri": "https://localhost:8080/",
          "height": 351
        },
        "id": "fccc9487",
        "outputId": "dc6bf043-ea88-420f-f91b-652ff1c29e09"
      },
      "outputs": [
        {
          "output_type": "stream",
          "name": "stderr",
          "text": [
            "/usr/local/lib/python3.7/dist-packages/seaborn/distributions.py:2619: FutureWarning: `distplot` is a deprecated function and will be removed in a future version. Please adapt your code to use either `displot` (a figure-level function with similar flexibility) or `histplot` (an axes-level function for histograms).\n",
            "  warnings.warn(msg, FutureWarning)\n"
          ]
        },
        {
          "output_type": "execute_result",
          "data": {
            "text/plain": [
              "<matplotlib.axes._subplots.AxesSubplot at 0x7f6bc44ea610>"
            ]
          },
          "metadata": {},
          "execution_count": 251
        },
        {
          "output_type": "display_data",
          "data": {
            "text/plain": [
              "<Figure size 432x288 with 1 Axes>"
            ],
            "image/png": "[encoded data removed]"
          },
          "metadata": {
            "needs_background": "light"
          }
        }
      ],
      "source": [
        "df['InitialIncurredCalimsCost'].hist(bins=30)\n",
        "sns.distplot(df['InitialIncurredCalimsCost'])"
      ]
    },
    {
      "cell_type": "markdown",
      "id": "bacc4c89",
      "metadata": {
        "id": "bacc4c89"
      },
      "source": [
        "##### The data for InitialIncurredClaimCost is right skewed."
      ]
    },
    {
      "cell_type": "code",
      "execution_count": 252,
      "id": "2104595f",
      "metadata": {
        "colab": {
          "base_uri": "https://localhost:8080/",
          "height": 351
        },
        "id": "2104595f",
        "outputId": "2fb5a8b7-2bb9-4246-b88b-525e63e9d256"
      },
      "outputs": [
        {
          "output_type": "stream",
          "name": "stderr",
          "text": [
            "/usr/local/lib/python3.7/dist-packages/seaborn/distributions.py:2619: FutureWarning: `distplot` is a deprecated function and will be removed in a future version. Please adapt your code to use either `displot` (a figure-level function with similar flexibility) or `histplot` (an axes-level function for histograms).\n",
            "  warnings.warn(msg, FutureWarning)\n"
          ]
        },
        {
          "output_type": "execute_result",
          "data": {
            "text/plain": [
              "<matplotlib.axes._subplots.AxesSubplot at 0x7f6bc1d3b850>"
            ]
          },
          "metadata": {},
          "execution_count": 252
        },
        {
          "output_type": "display_data",
          "data": {
            "text/plain": [
              "<Figure size 432x288 with 1 Axes>"
            ],
            "image/png": "[encoded data removed]"
          },
          "metadata": {
            "needs_background": "light"
          }
        }
      ],
      "source": [
        "sns.distplot(df['Age'])"
      ]
    },
    {
      "cell_type": "code",
      "execution_count": 253,
      "id": "d9db61e3",
      "metadata": {
        "colab": {
          "base_uri": "https://localhost:8080/",
          "height": 297
        },
        "id": "d9db61e3",
        "outputId": "7d1e3da4-c89f-43d0-fc1f-7f8b5711eacd"
      },
      "outputs": [
        {
          "output_type": "execute_result",
          "data": {
            "text/plain": [
              "<matplotlib.axes._subplots.AxesSubplot at 0x7f6bc1b3c950>"
            ]
          },
          "metadata": {},
          "execution_count": 253
        },
        {
          "output_type": "display_data",
          "data": {
            "text/plain": [
              "<Figure size 432x288 with 1 Axes>"
            ],
            "image/png": "[encoded data removed]"
          },
          "metadata": {
            "needs_background": "light"
          }
        }
      ],
      "source": [
        "sns.countplot(x = 'Age_Bin', data = df)"
      ]
    },
    {
      "cell_type": "code",
      "execution_count": 254,
      "id": "94c51d0d",
      "metadata": {
        "colab": {
          "base_uri": "https://localhost:8080/"
        },
        "id": "94c51d0d",
        "outputId": "5ab772e1-db05-4cbc-bff9-3902d284c0d4"
      },
      "outputs": [
        {
          "output_type": "execute_result",
          "data": {
            "text/plain": [
              "Middle-Age    56.844317\n",
              "Young         31.750332\n",
              "Old           11.405352\n",
              "Name: Age_Bin, dtype: float64"
            ]
          },
          "metadata": {},
          "execution_count": 254
        }
      ],
      "source": [
        "df['Age_Bin'].value_counts(normalize=True)*100"
      ]
    },
    {
      "cell_type": "markdown",
      "id": "4e1b2a5c",
      "metadata": {
        "id": "4e1b2a5c"
      },
      "source": [
        "##### From both the plots we can see that the claims are higher from the middle age group (25-40) which is roughly 57%. "
      ]
    },
    {
      "cell_type": "code",
      "execution_count": 255,
      "id": "089c5274",
      "metadata": {
        "colab": {
          "base_uri": "https://localhost:8080/",
          "height": 297
        },
        "id": "089c5274",
        "outputId": "5f701679-ae51-4613-bc29-7e966551da78"
      },
      "outputs": [
        {
          "output_type": "execute_result",
          "data": {
            "text/plain": [
              "<matplotlib.axes._subplots.AxesSubplot at 0x7f6bc1b87810>"
            ]
          },
          "metadata": {},
          "execution_count": 255
        },
        {
          "output_type": "display_data",
          "data": {
            "text/plain": [
              "<Figure size 432x288 with 1 Axes>"
            ],
            "image/png": "[encoded data removed]"
          },
          "metadata": {
            "needs_background": "light"
          }
        }
      ],
      "source": [
        "sns.countplot(x = 'DependentChildren', data = df)"
      ]
    },
    {
      "cell_type": "code",
      "execution_count": 256,
      "id": "eef84946",
      "metadata": {
        "colab": {
          "base_uri": "https://localhost:8080/"
        },
        "id": "eef84946",
        "outputId": "4b200ba1-012b-481d-979b-e1cc4aea1fef"
      },
      "outputs": [
        {
          "output_type": "execute_result",
          "data": {
            "text/plain": [
              "0    93.703008\n",
              "2     2.554180\n",
              "1     2.371738\n",
              "3     0.975785\n",
              "4     0.284719\n",
              "5     0.093985\n",
              "6     0.011057\n",
              "9     0.002764\n",
              "8     0.002764\n",
              "Name: DependentChildren, dtype: float64"
            ]
          },
          "metadata": {},
          "execution_count": 256
        }
      ],
      "source": [
        "df['DependentChildren'].value_counts(normalize=True)*100"
      ]
    },
    {
      "cell_type": "markdown",
      "id": "0b9a720f",
      "metadata": {
        "id": "0b9a720f"
      },
      "source": [
        "##### The claims made from people with no children as dependents is high(Almost 94%)."
      ]
    },
    {
      "cell_type": "code",
      "execution_count": 258,
      "id": "d548b859",
      "metadata": {
        "colab": {
          "base_uri": "https://localhost:8080/",
          "height": 296
        },
        "id": "d548b859",
        "outputId": "7d48526e-2e95-4bcf-cf89-84f072c18cd7"
      },
      "outputs": [
        {
          "output_type": "execute_result",
          "data": {
            "text/plain": [
              "<matplotlib.axes._subplots.AxesSubplot at 0x7f6bc1a030d0>"
            ]
          },
          "metadata": {},
          "execution_count": 258
        },
        {
          "output_type": "display_data",
          "data": {
            "text/plain": [
              "<Figure size 432x288 with 1 Axes>"
            ],
            "image/png": "[encoded data removed]"
          },
          "metadata": {
            "needs_background": "light"
          }
        }
      ],
      "source": [
        "sns.countplot(x = 'DependentsOther', data = df)"
      ]
    },
    {
      "cell_type": "code",
      "execution_count": 259,
      "id": "b320db65",
      "metadata": {
        "colab": {
          "base_uri": "https://localhost:8080/"
        },
        "id": "b320db65",
        "outputId": "df8c169c-2ccb-4243-dfc5-8927a77658be"
      },
      "outputs": [
        {
          "output_type": "execute_result",
          "data": {
            "text/plain": [
              "0.0    99.120964\n",
              "1.0     0.820986\n",
              "2.0     0.041464\n",
              "3.0     0.016586\n",
              "Name: DependentsOther, dtype: float64"
            ]
          },
          "metadata": {},
          "execution_count": 259
        }
      ],
      "source": [
        "df['DependentsOther'].value_counts(normalize=True)*100"
      ]
    },
    {
      "cell_type": "markdown",
      "id": "144743bb",
      "metadata": {
        "id": "144743bb"
      },
      "source": [
        "##### The claims made from people with no dependents is high (Almost 99%)."
      ]
    },
    {
      "cell_type": "code",
      "execution_count": 260,
      "id": "5cce0949",
      "metadata": {
        "colab": {
          "base_uri": "https://localhost:8080/",
          "height": 351
        },
        "id": "5cce0949",
        "outputId": "92b59ce9-3ee6-4999-f62e-fbf80afa47fb"
      },
      "outputs": [
        {
          "output_type": "stream",
          "name": "stderr",
          "text": [
            "/usr/local/lib/python3.7/dist-packages/seaborn/distributions.py:2619: FutureWarning: `distplot` is a deprecated function and will be removed in a future version. Please adapt your code to use either `displot` (a figure-level function with similar flexibility) or `histplot` (an axes-level function for histograms).\n",
            "  warnings.warn(msg, FutureWarning)\n"
          ]
        },
        {
          "output_type": "execute_result",
          "data": {
            "text/plain": [
              "<matplotlib.axes._subplots.AxesSubplot at 0x7f6bc1975590>"
            ]
          },
          "metadata": {},
          "execution_count": 260
        },
        {
          "output_type": "display_data",
          "data": {
            "text/plain": [
              "<Figure size 432x288 with 1 Axes>"
            ],
            "image/png": "[encoded data removed]"
          },
          "metadata": {
            "needs_background": "light"
          }
        }
      ],
      "source": [
        "df['HoursWorkedPerWeek'].hist(bins=50)\n",
        "sns.distplot(df['HoursWorkedPerWeek'])"
      ]
    },
    {
      "cell_type": "markdown",
      "id": "b8c362ac",
      "metadata": {
        "id": "b8c362ac"
      },
      "source": [
        "##### The data for HoursWorkedPerWeek is positively skewed."
      ]
    },
    {
      "cell_type": "code",
      "execution_count": 261,
      "id": "cac1e7d3",
      "metadata": {
        "colab": {
          "base_uri": "https://localhost:8080/",
          "height": 296
        },
        "id": "cac1e7d3",
        "outputId": "0f281625-49e5-4a77-e9b1-e2bf25c452ff"
      },
      "outputs": [
        {
          "output_type": "execute_result",
          "data": {
            "text/plain": [
              "<matplotlib.axes._subplots.AxesSubplot at 0x7f6bc17e8550>"
            ]
          },
          "metadata": {},
          "execution_count": 261
        },
        {
          "output_type": "display_data",
          "data": {
            "text/plain": [
              "<Figure size 432x288 with 1 Axes>"
            ],
            "image/png": "[encoded data removed]"
          },
          "metadata": {
            "needs_background": "light"
          }
        }
      ],
      "source": [
        "sns.countplot(x = 'DaysWorkedPerWeek', data = df)"
      ]
    },
    {
      "cell_type": "code",
      "execution_count": 262,
      "id": "c8915a64",
      "metadata": {
        "colab": {
          "base_uri": "https://localhost:8080/"
        },
        "id": "c8915a64",
        "outputId": "ae842448-f761-4938-8b36-4a91f1451ab8"
      },
      "outputs": [
        {
          "output_type": "execute_result",
          "data": {
            "text/plain": [
              "5.0    91.209642\n",
              "4.0     2.750442\n",
              "3.0     2.642636\n",
              "6.0     1.561809\n",
              "2.0     0.928793\n",
              "7.0     0.577731\n",
              "1.0     0.328947\n",
              "Name: DaysWorkedPerWeek, dtype: float64"
            ]
          },
          "metadata": {},
          "execution_count": 262
        }
      ],
      "source": [
        "df['DaysWorkedPerWeek'].value_counts(normalize=True)*100"
      ]
    },
    {
      "cell_type": "markdown",
      "id": "5abe5221",
      "metadata": {
        "id": "5abe5221"
      },
      "source": [
        "##### From the above plot we can see that 91% of the people who have claimed for insurance work for 5 days a week. "
      ]
    },
    {
      "cell_type": "code",
      "execution_count": 263,
      "id": "d4143113",
      "metadata": {
        "colab": {
          "base_uri": "https://localhost:8080/",
          "height": 296
        },
        "id": "d4143113",
        "outputId": "9ad66cec-4367-4b52-b08e-11af04ee5e35"
      },
      "outputs": [
        {
          "output_type": "execute_result",
          "data": {
            "text/plain": [
              "<matplotlib.axes._subplots.AxesSubplot at 0x7f6bc17f9a10>"
            ]
          },
          "metadata": {},
          "execution_count": 263
        },
        {
          "output_type": "display_data",
          "data": {
            "text/plain": [
              "<Figure size 432x288 with 1 Axes>"
            ],
            "image/png": "[encoded data removed]"
          },
          "metadata": {
            "needs_background": "light"
          }
        }
      ],
      "source": [
        "sns.countplot(x = 'Gender', data = df)"
      ]
    },
    {
      "cell_type": "code",
      "execution_count": 264,
      "id": "4bb1ab54",
      "metadata": {
        "colab": {
          "base_uri": "https://localhost:8080/"
        },
        "id": "4bb1ab54",
        "outputId": "a275b4d0-5237-4161-f255-694fa0a0bd58"
      },
      "outputs": [
        {
          "output_type": "execute_result",
          "data": {
            "text/plain": [
              "M    77.175475\n",
              "F    22.821760\n",
              "U     0.002764\n",
              "Name: Gender, dtype: float64"
            ]
          },
          "metadata": {},
          "execution_count": 264
        }
      ],
      "source": [
        "df['Gender'].value_counts(normalize=True)*100"
      ]
    },
    {
      "cell_type": "markdown",
      "id": "b42c8a94",
      "metadata": {
        "id": "b42c8a94"
      },
      "source": [
        "##### From the above plot we can see approximately 77% people who claimed for insurance are males while 22% are females."
      ]
    },
    {
      "cell_type": "code",
      "execution_count": 265,
      "id": "502971fa",
      "metadata": {
        "colab": {
          "base_uri": "https://localhost:8080/",
          "height": 296
        },
        "id": "502971fa",
        "outputId": "e374c058-3665-40aa-d5a2-d0725fbcd285"
      },
      "outputs": [
        {
          "output_type": "execute_result",
          "data": {
            "text/plain": [
              "<matplotlib.axes._subplots.AxesSubplot at 0x7f6bc19cb550>"
            ]
          },
          "metadata": {},
          "execution_count": 265
        },
        {
          "output_type": "display_data",
          "data": {
            "text/plain": [
              "<Figure size 432x288 with 1 Axes>"
            ],
            "image/png": "[encoded data removed]"
          },
          "metadata": {
            "needs_background": "light"
          }
        }
      ],
      "source": [
        "sns.countplot(x = 'MaritalStatus', data = df)"
      ]
    },
    {
      "cell_type": "code",
      "execution_count": 266,
      "id": "eb515b2a",
      "metadata": {
        "colab": {
          "base_uri": "https://localhost:8080/"
        },
        "id": "eb515b2a",
        "outputId": "17fffe90-4f25-4ca6-8757-a7c6db035a1d"
      },
      "outputs": [
        {
          "output_type": "execute_result",
          "data": {
            "text/plain": [
              "S    48.297214\n",
              "M    41.911765\n",
              "U     9.791022\n",
              "Name: MaritalStatus, dtype: float64"
            ]
          },
          "metadata": {},
          "execution_count": 266
        }
      ],
      "source": [
        "df['MaritalStatus'].value_counts(normalize=True)*100"
      ]
    },
    {
      "cell_type": "markdown",
      "id": "a378c6c4",
      "metadata": {
        "id": "a378c6c4"
      },
      "source": [
        "##### From the above plot we can see approximately 48% people who claimed for insurance are single while 41% are married and a very small percentage of people are unmarried."
      ]
    },
    {
      "cell_type": "code",
      "execution_count": 267,
      "id": "121799ef",
      "metadata": {
        "colab": {
          "base_uri": "https://localhost:8080/",
          "height": 296
        },
        "id": "121799ef",
        "outputId": "b559d265-bde9-4a2c-bdf4-0abaa729f4ba"
      },
      "outputs": [
        {
          "output_type": "execute_result",
          "data": {
            "text/plain": [
              "<matplotlib.axes._subplots.AxesSubplot at 0x7f6bc1726f10>"
            ]
          },
          "metadata": {},
          "execution_count": 267
        },
        {
          "output_type": "display_data",
          "data": {
            "text/plain": [
              "<Figure size 432x288 with 1 Axes>"
            ],
            "image/png": "[encoded data removed]"
          },
          "metadata": {
            "needs_background": "light"
          }
        }
      ],
      "source": [
        "sns.countplot(x = 'PartTimeFullTime', data = df)"
      ]
    },
    {
      "cell_type": "code",
      "execution_count": 268,
      "id": "8a98dd5f",
      "metadata": {
        "colab": {
          "base_uri": "https://localhost:8080/"
        },
        "id": "8a98dd5f",
        "outputId": "1b4882e2-34ef-47b8-d980-e4d46f232fe9"
      },
      "outputs": [
        {
          "output_type": "execute_result",
          "data": {
            "text/plain": [
              "F    90.991265\n",
              "P     9.008735\n",
              "Name: PartTimeFullTime, dtype: float64"
            ]
          },
          "metadata": {},
          "execution_count": 268
        }
      ],
      "source": [
        "df['PartTimeFullTime'].value_counts(normalize=True)*100"
      ]
    },
    {
      "cell_type": "markdown",
      "id": "acc95b44",
      "metadata": {
        "id": "acc95b44"
      },
      "source": [
        "##### From the above plot we can see approximately 91% of the people hold full time jobs."
      ]
    },
    {
      "cell_type": "code",
      "execution_count": 269,
      "id": "dd632b93",
      "metadata": {
        "colab": {
          "base_uri": "https://localhost:8080/",
          "height": 352
        },
        "id": "dd632b93",
        "outputId": "aaabf856-00a3-4868-8e09-289dae3b16b3"
      },
      "outputs": [
        {
          "output_type": "execute_result",
          "data": {
            "text/plain": [
              "<matplotlib.axes._subplots.AxesSubplot at 0x7f6bc16990d0>"
            ]
          },
          "metadata": {},
          "execution_count": 269
        },
        {
          "output_type": "display_data",
          "data": {
            "text/plain": [
              "<Figure size 720x360 with 1 Axes>"
            ],
            "image/png": "[encoded data removed]"
          },
          "metadata": {
            "needs_background": "light"
          }
        }
      ],
      "source": [
        "plt.figure(figsize=(10,5))\n",
        "sns.countplot(x = 'WeeklyWages_Bin', data = df)"
      ]
    },
    {
      "cell_type": "code",
      "execution_count": 270,
      "id": "7e683a51",
      "metadata": {
        "colab": {
          "base_uri": "https://localhost:8080/"
        },
        "id": "7e683a51",
        "outputId": "6667e06c-795e-422d-9686-c69abeb2a95e"
      },
      "outputs": [
        {
          "output_type": "execute_result",
          "data": {
            "text/plain": [
              "Low              97.910217\n",
              "Below Average     1.973684\n",
              "Average Wage      0.105042\n",
              "Above Average     0.008293\n",
              "High              0.002764\n",
              "Name: WeeklyWages_Bin, dtype: float64"
            ]
          },
          "metadata": {},
          "execution_count": 270
        }
      ],
      "source": [
        "df['WeeklyWages_Bin'].value_counts(normalize=True)*100"
      ]
    },
    {
      "cell_type": "markdown",
      "id": "3868ad63",
      "metadata": {
        "id": "3868ad63"
      },
      "source": [
        "##### From the above plot we can see that most of the people who claimed for insurance have low wages "
      ]
    },
    {
      "cell_type": "markdown",
      "id": "37eda331",
      "metadata": {
        "id": "37eda331"
      },
      "source": [
        "## Bivariate analysis"
      ]
    },
    {
      "cell_type": "code",
      "execution_count": 271,
      "id": "31dd93fa",
      "metadata": {
        "colab": {
          "base_uri": "https://localhost:8080/",
          "height": 297
        },
        "id": "31dd93fa",
        "outputId": "d800c75f-7a61-4593-fd3c-c922ac1c8fa9"
      },
      "outputs": [
        {
          "output_type": "execute_result",
          "data": {
            "text/plain": [
              "<matplotlib.axes._subplots.AxesSubplot at 0x7f6bc16d3750>"
            ]
          },
          "metadata": {},
          "execution_count": 271
        },
        {
          "output_type": "display_data",
          "data": {
            "text/plain": [
              "<Figure size 432x288 with 1 Axes>"
            ],
            "image/png": "[encoded data removed]"
          },
          "metadata": {
            "needs_background": "light"
          }
        }
      ],
      "source": [
        "sns.barplot(x='Age_Bin',y='UltimateIncurredClaimCost',data=df)"
      ]
    },
    {
      "cell_type": "markdown",
      "id": "671df164",
      "metadata": {
        "id": "671df164"
      },
      "source": [
        "##### People who are in the old age group (50-80) got more total claims payments by the insurance company. "
      ]
    },
    {
      "cell_type": "code",
      "execution_count": 272,
      "id": "74c369ad",
      "metadata": {
        "colab": {
          "base_uri": "https://localhost:8080/",
          "height": 296
        },
        "id": "74c369ad",
        "outputId": "75962f29-cfed-4173-f3f8-b17e7ad4d9a4"
      },
      "outputs": [
        {
          "output_type": "execute_result",
          "data": {
            "text/plain": [
              "<matplotlib.axes._subplots.AxesSubplot at 0x7f6bc1583190>"
            ]
          },
          "metadata": {},
          "execution_count": 272
        },
        {
          "output_type": "display_data",
          "data": {
            "text/plain": [
              "<Figure size 432x288 with 1 Axes>"
            ],
            "image/png": "[encoded data removed]"
          },
          "metadata": {
            "needs_background": "light"
          }
        }
      ],
      "source": [
        "#plt.figure(figsize=(10,5))\n",
        "sns.barplot(x='DependentChildren',y='UltimateIncurredClaimCost',data=df)\n",
        "#plt.show()"
      ]
    },
    {
      "cell_type": "markdown",
      "id": "92791dd9",
      "metadata": {
        "id": "92791dd9"
      },
      "source": [
        "##### People who have more children as dependents got more insurance payments from the insurance company."
      ]
    },
    {
      "cell_type": "code",
      "execution_count": 273,
      "id": "eb8ba1ba",
      "metadata": {
        "colab": {
          "base_uri": "https://localhost:8080/",
          "height": 296
        },
        "id": "eb8ba1ba",
        "outputId": "8c928a86-944d-4779-92d3-f5cc56137fc2"
      },
      "outputs": [
        {
          "output_type": "execute_result",
          "data": {
            "text/plain": [
              "<matplotlib.axes._subplots.AxesSubplot at 0x7f6bc1617050>"
            ]
          },
          "metadata": {},
          "execution_count": 273
        },
        {
          "output_type": "display_data",
          "data": {
            "text/plain": [
              "<Figure size 432x288 with 1 Axes>"
            ],
            "image/png": "[encoded data removed]"
          },
          "metadata": {
            "needs_background": "light"
          }
        }
      ],
      "source": [
        "sns.barplot(x='DependentsOther',y='UltimateIncurredClaimCost',data=df)"
      ]
    },
    {
      "cell_type": "code",
      "execution_count": 274,
      "id": "f14cc620",
      "metadata": {
        "colab": {
          "base_uri": "https://localhost:8080/",
          "height": 352
        },
        "id": "f14cc620",
        "outputId": "c7028730-8005-4d65-a4c7-9ca4f07e2dc8"
      },
      "outputs": [
        {
          "output_type": "execute_result",
          "data": {
            "text/plain": [
              "<matplotlib.axes._subplots.AxesSubplot at 0x7f6bc150eed0>"
            ]
          },
          "metadata": {},
          "execution_count": 274
        },
        {
          "output_type": "display_data",
          "data": {
            "text/plain": [
              "<Figure size 720x360 with 1 Axes>"
            ],
            "image/png": "[encoded data removed]"
          },
          "metadata": {
            "needs_background": "light"
          }
        }
      ],
      "source": [
        "plt.figure(figsize=(10,5))\n",
        "sns.barplot(x='WeeklyWages_Bin',y='InitialIncurredCalimsCost',data=df)"
      ]
    },
    {
      "cell_type": "markdown",
      "id": "dbb6cdc0",
      "metadata": {
        "id": "dbb6cdc0"
      },
      "source": [
        "##### People whose wages are above average claimed for more claim cost. "
      ]
    },
    {
      "cell_type": "code",
      "execution_count": 275,
      "id": "94bf08c4",
      "metadata": {
        "scrolled": true,
        "colab": {
          "base_uri": "https://localhost:8080/",
          "height": 352
        },
        "id": "94bf08c4",
        "outputId": "fff461a2-6672-4e7b-a051-5e0e5c11aa82"
      },
      "outputs": [
        {
          "output_type": "execute_result",
          "data": {
            "text/plain": [
              "<matplotlib.axes._subplots.AxesSubplot at 0x7f6bc1611b90>"
            ]
          },
          "metadata": {},
          "execution_count": 275
        },
        {
          "output_type": "display_data",
          "data": {
            "text/plain": [
              "<Figure size 720x360 with 1 Axes>"
            ],
            "image/png": "[encoded data removed]"
          },
          "metadata": {
            "needs_background": "light"
          }
        }
      ],
      "source": [
        "plt.figure(figsize=(10,5))\n",
        "sns.barplot(x='WeeklyWages_Bin',y='UltimateIncurredClaimCost',data=df)"
      ]
    },
    {
      "cell_type": "markdown",
      "id": "081c25bf",
      "metadata": {
        "id": "081c25bf"
      },
      "source": [
        "##### People who's wages are below average and above average got more total claims payments by the insurance company."
      ]
    },
    {
      "cell_type": "code",
      "execution_count": 276,
      "id": "35be0c48",
      "metadata": {
        "colab": {
          "base_uri": "https://localhost:8080/",
          "height": 351
        },
        "id": "35be0c48",
        "outputId": "fcc812a0-b7db-492b-dc8d-7d29b5b699dd"
      },
      "outputs": [
        {
          "output_type": "execute_result",
          "data": {
            "text/plain": [
              "<matplotlib.axes._subplots.AxesSubplot at 0x7f6bc150e650>"
            ]
          },
          "metadata": {},
          "execution_count": 276
        },
        {
          "output_type": "display_data",
          "data": {
            "text/plain": [
              "<Figure size 720x360 with 1 Axes>"
            ],
            "image/png": "[encoded data removed]"
          },
          "metadata": {
            "needs_background": "light"
          }
        }
      ],
      "source": [
        "plt.figure(figsize=(10,5))\n",
        "sns.barplot(x='DaysWorkedPerWeek',y='UltimateIncurredClaimCost',data=df)"
      ]
    },
    {
      "cell_type": "code",
      "execution_count": 277,
      "id": "fef3b8ac",
      "metadata": {
        "colab": {
          "base_uri": "https://localhost:8080/",
          "height": 513
        },
        "id": "fef3b8ac",
        "outputId": "f2cda97e-b081-4db2-f944-094b1c1f960f"
      },
      "outputs": [
        {
          "output_type": "execute_result",
          "data": {
            "text/plain": [
              "  ClaimNumber    DateTimeOfAccident          DateReported  Age Gender  \\\n",
              "1   WC8205482  2002-04-09T07:00:00Z  2002-07-05T00:00:00Z   48      M   \n",
              "2   WC6922469  1999-01-07T11:00:00Z  1999-01-20T00:00:00Z   43      F   \n",
              "3   WC5442654  1996-03-25T00:00:00Z  1996-04-14T00:00:00Z   30      M   \n",
              "4   WC9796897  2005-06-22T13:00:00Z  2005-07-22T00:00:00Z   41      M   \n",
              "5   WC2603726  1990-08-29T08:00:00Z  1990-09-27T00:00:00Z   36      M   \n",
              "\n",
              "  MaritalStatus  DependentChildren  DependentsOther PartTimeFullTime  \\\n",
              "1             M                  0              0.0                F   \n",
              "2             M                  0              0.0                F   \n",
              "3             U                  0              0.0                F   \n",
              "4             S                  0              0.0                F   \n",
              "5             M                  0              0.0                F   \n",
              "\n",
              "                                    ClaimDescription  \\\n",
              "1  LIFTING TYRE INJURY TO RIGHT ARM AND WRIST INJURY   \n",
              "2  STEPPED AROUND CRATES AND TRUCK TRAY FRACTURE ...   \n",
              "3                   CUT ON SHARP EDGE CUT LEFT THUMB   \n",
              "4               DIGGING LOWER BACK LOWER BACK STRAIN   \n",
              "5  REACHING ABOVE SHOULDER LEVEL ACUTE MUSCLE STR...   \n",
              "\n",
              "   InitialIncurredCalimsCost  UltimateIncurredClaimCost  \n",
              "1                       1500                4748.203388  \n",
              "2                       5500                6326.285819  \n",
              "3                       1700                2293.949087  \n",
              "4                      15000               17786.487170  \n",
              "5                       2800                4014.002925  "
            ],
            "text/html": [
              "\n",
              "  <div id=\"df-a2f5245f-b1b0-4b66-af1e-4a05892f45d6\">\n",
              "    <div class=\"colab-df-container\">\n",
              "      <div>\n",
              "<style scoped>\n",
              "    .dataframe tbody tr th:only-of-type {\n",
              "        vertical-align: middle;\n",
              "    }\n",
              "\n",
              "    .dataframe tbody tr th {\n",
              "        vertical-align: top;\n",
              "    }\n",
              "\n",
              "    .dataframe thead th {\n",
              "        text-align: right;\n",
              "    }\n",
              "</style>\n",
              "<table border=\"1\" class=\"dataframe\">\n",
              "  <thead>\n",
              "    <tr style=\"text-align: right;\">\n",
              "      <th></th>\n",
              "      <th>ClaimNumber</th>\n",
              "      <th>DateTimeOfAccident</th>\n",
              "      <th>DateReported</th>\n",
              "      <th>Age</th>\n",
              "      <th>Gender</th>\n",
              "      <th>MaritalStatus</th>\n",
              "      <th>DependentChildren</th>\n",
              "      <th>DependentsOther</th>\n",
              "      <th>PartTimeFullTime</th>\n",
              "      <th>ClaimDescription</th>\n",
              "      <th>InitialIncurredCalimsCost</th>\n",
              "      <th>UltimateIncurredClaimCost</th>\n",
              "    </tr>\n",
              "  </thead>\n",
              "  <tbody>\n",
              "    <tr>\n",
              "      <th>1</th>\n",
              "      <td>WC8205482</td>\n",
              "      <td>2002-04-09T07:00:00Z</td>\n",
              "      <td>2002-07-05T00:00:00Z</td>\n",
              "      <td>48</td>\n",
              "      <td>M</td>\n",
              "      <td>M</td>\n",
              "      <td>0</td>\n",
              "      <td>0.0</td>\n",
              "      <td>F</td>\n",
              "      <td>LIFTING TYRE INJURY TO RIGHT ARM AND WRIST INJURY</td>\n",
              "      <td>1500</td>\n",
              "      <td>4748.203388</td>\n",
              "    </tr>\n",
              "    <tr>\n",
              "      <th>2</th>\n",
              "      <td>WC6922469</td>\n",
              "      <td>1999-01-07T11:00:00Z</td>\n",
              "      <td>1999-01-20T00:00:00Z</td>\n",
              "      <td>43</td>\n",
              "      <td>F</td>\n",
              "      <td>M</td>\n",
              "      <td>0</td>\n",
              "      <td>0.0</td>\n",
              "      <td>F</td>\n",
              "      <td>STEPPED AROUND CRATES AND TRUCK TRAY FRACTURE ...</td>\n",
              "      <td>5500</td>\n",
              "      <td>6326.285819</td>\n",
              "    </tr>\n",
              "    <tr>\n",
              "      <th>3</th>\n",
              "      <td>WC5442654</td>\n",
              "      <td>1996-03-25T00:00:00Z</td>\n",
              "      <td>1996-04-14T00:00:00Z</td>\n",
              "      <td>30</td>\n",
              "      <td>M</td>\n",
              "      <td>U</td>\n",
              "      <td>0</td>\n",
              "      <td>0.0</td>\n",
              "      <td>F</td>\n",
              "      <td>CUT ON SHARP EDGE CUT LEFT THUMB</td>\n",
              "      <td>1700</td>\n",
              "      <td>2293.949087</td>\n",
              "    </tr>\n",
              "    <tr>\n",
              "      <th>4</th>\n",
              "      <td>WC9796897</td>\n",
              "      <td>2005-06-22T13:00:00Z</td>\n",
              "      <td>2005-07-22T00:00:00Z</td>\n",
              "      <td>41</td>\n",
              "      <td>M</td>\n",
              "      <td>S</td>\n",
              "      <td>0</td>\n",
              "      <td>0.0</td>\n",
              "      <td>F</td>\n",
              "      <td>DIGGING LOWER BACK LOWER BACK STRAIN</td>\n",
              "      <td>15000</td>\n",
              "      <td>17786.487170</td>\n",
              "    </tr>\n",
              "    <tr>\n",
              "      <th>5</th>\n",
              "      <td>WC2603726</td>\n",
              "      <td>1990-08-29T08:00:00Z</td>\n",
              "      <td>1990-09-27T00:00:00Z</td>\n",
              "      <td>36</td>\n",
              "      <td>M</td>\n",
              "      <td>M</td>\n",
              "      <td>0</td>\n",
              "      <td>0.0</td>\n",
              "      <td>F</td>\n",
              "      <td>REACHING ABOVE SHOULDER LEVEL ACUTE MUSCLE STR...</td>\n",
              "      <td>2800</td>\n",
              "      <td>4014.002925</td>\n",
              "    </tr>\n",
              "  </tbody>\n",
              "</table>\n",
              "</div>\n",
              "      <button class=\"colab-df-convert\" onclick=\"convertToInteractive('df-a2f5245f-b1b0-4b66-af1e-4a05892f45d6')\"\n",
              "              title=\"Convert this dataframe to an interactive table.\"\n",
              "              style=\"display:none;\">\n",
              "        \n",
              "  <svg xmlns=\"http://www.w3.org/2000/svg\" height=\"24px\"viewBox=\"0 0 24 24\"\n",
              "       width=\"24px\">\n",
              "    <path d=\"M0 0h24v24H0V0z\" fill=\"none\"/>\n",
              "    <path d=\"M18.56 5.44l.94 2.06.94-2.06 2.06-.94-2.06-.94-.94-2.06-.94 2.06-2.06.94zm-11 1L8.5 8.5l.94-2.06 2.06-.94-2.06-.94L8.5 2.5l-.94 2.06-2.06.94zm10 10l.94 2.06.94-2.06 2.06-.94-2.06-.94-.94-2.06-.94 2.06-2.06.94z\"/><path d=\"M17.41 7.96l-1.37-1.37c-.4-.4-.92-.59-1.43-.59-.52 0-1.04.2-1.43.59L10.3 9.45l-7.72 7.72c-.78.78-.78 2.05 0 2.83L4 21.41c.39.39.9.59 1.41.59.51 0 1.02-.2 1.41-.59l7.78-7.78 2.81-2.81c.8-.78.8-2.07 0-2.86zM5.41 20L4 18.59l7.72-7.72 1.47 1.35L5.41 20z\"/>\n",
              "  </svg>\n",
              "      </button>\n",
              "      \n",
              "  <style>\n",
              "    .colab-df-container {\n",
              "      display:flex;\n",
              "      flex-wrap:wrap;\n",
              "      gap: 12px;\n",
              "    }\n",
              "\n",
              "    .colab-df-convert {\n",
              "      background-color: #E8F0FE;\n",
              "      border: none;\n",
              "      border-radius: 50%;\n",
              "      cursor: pointer;\n",
              "      display: none;\n",
              "      fill: #1967D2;\n",
              "      height: 32px;\n",
              "      padding: 0 0 0 0;\n",
              "      width: 32px;\n",
              "    }\n",
              "\n",
              "    .colab-df-convert:hover {\n",
              "      background-color: #E2EBFA;\n",
              "      box-shadow: 0px 1px 2px rgba(60, 64, 67, 0.3), 0px 1px 3px 1px rgba(60, 64, 67, 0.15);\n",
              "      fill: #174EA6;\n",
              "    }\n",
              "\n",
              "    [theme=dark] .colab-df-convert {\n",
              "      background-color: #3B4455;\n",
              "      fill: #D2E3FC;\n",
              "    }\n",
              "\n",
              "    [theme=dark] .colab-df-convert:hover {\n",
              "      background-color: #434B5C;\n",
              "      box-shadow: 0px 1px 3px 1px rgba(0, 0, 0, 0.15);\n",
              "      filter: drop-shadow(0px 1px 2px rgba(0, 0, 0, 0.3));\n",
              "      fill: #FFFFFF;\n",
              "    }\n",
              "  </style>\n",
              "\n",
              "      <script>\n",
              "        const buttonEl =\n",
              "          document.querySelector('#df-a2f5245f-b1b0-4b66-af1e-4a05892f45d6 button.colab-df-convert');\n",
              "        buttonEl.style.display =\n",
              "          google.colab.kernel.accessAllowed ? 'block' : 'none';\n",
              "\n",
              "        async function convertToInteractive(key) {\n",
              "          const element = document.querySelector('#df-a2f5245f-b1b0-4b66-af1e-4a05892f45d6');\n",
              "          const dataTable =\n",
              "            await google.colab.kernel.invokeFunction('convertToInteractive',\n",
              "                                                     [key], {});\n",
              "          if (!dataTable) return;\n",
              "\n",
              "          const docLinkHtml = 'Like what you see? Visit the ' +\n",
              "            '<a target=\"_blank\" href=https://colab.research.google.com/notebooks/data_table.ipynb>data table notebook</a>'\n",
              "            + ' to learn more about interactive tables.';\n",
              "          element.innerHTML = '';\n",
              "          dataTable['output_type'] = 'display_data';\n",
              "          await google.colab.output.renderOutput(dataTable, element);\n",
              "          const docLink = document.createElement('div');\n",
              "          docLink.innerHTML = docLinkHtml;\n",
              "          element.appendChild(docLink);\n",
              "        }\n",
              "      </script>\n",
              "    </div>\n",
              "  </div>\n",
              "  "
            ]
          },
          "metadata": {},
          "execution_count": 277
        }
      ],
      "source": [
        "df_drop=df.drop(columns=['WeeklyWages', 'WeeklyWages_Bin','HoursWorkedPerWeek','DaysWorkedPerWeek','Age_Bin'])\n",
        "df_drop.head()"
      ]
    },
    {
      "cell_type": "code",
      "execution_count": 278,
      "id": "54640643",
      "metadata": {
        "colab": {
          "base_uri": "https://localhost:8080/",
          "height": 447
        },
        "id": "54640643",
        "outputId": "949ba52e-8c60-4fad-b0aa-6c1628715941"
      },
      "outputs": [
        {
          "output_type": "display_data",
          "data": {
            "text/plain": [
              "<Figure size 720x360 with 2 Axes>"
            ],
            "image/png": "[encoded data removed]"
          },
          "metadata": {
            "needs_background": "light"
          }
        }
      ],
      "source": [
        "plt.figure(figsize=(10,5))\n",
        "sns.heatmap(df_drop[['ClaimNumber', 'DateTimeOfAccident', 'DateReported', 'Age', 'DependentChildren', \n",
        "       'DependentsOther','InitialIncurredCalimsCost', 'UltimateIncurredClaimCost', ]].corr(),annot=True)\n",
        "plt.show()"
      ]
    },
    {
      "cell_type": "markdown",
      "id": "03931518",
      "metadata": {
        "id": "03931518"
      },
      "source": [
        "##### There is no correlation among the numerical columns. "
      ]
    },
    {
      "cell_type": "code",
      "execution_count": 279,
      "id": "cb397a78",
      "metadata": {
        "colab": {
          "base_uri": "https://localhost:8080/",
          "height": 351
        },
        "id": "cb397a78",
        "outputId": "fe2b5163-4117-4861-bca6-21e18d5bc816"
      },
      "outputs": [
        {
          "output_type": "execute_result",
          "data": {
            "text/plain": [
              "<matplotlib.axes._subplots.AxesSubplot at 0x7f6bc1323e10>"
            ]
          },
          "metadata": {},
          "execution_count": 279
        },
        {
          "output_type": "display_data",
          "data": {
            "text/plain": [
              "<Figure size 720x360 with 1 Axes>"
            ],
            "image/png": "[encoded data removed]"
          },
          "metadata": {
            "needs_background": "light"
          }
        }
      ],
      "source": [
        "plt.figure(figsize=(10,5))\n",
        "sns.boxplot(x='UltimateIncurredClaimCost', y='Age_Bin',data=df)"
      ]
    },
    {
      "cell_type": "markdown",
      "id": "299391ef",
      "metadata": {
        "id": "299391ef"
      },
      "source": [
        "## Outlier Analysis"
      ]
    },
    {
      "cell_type": "code",
      "execution_count": 280,
      "id": "a31e7656",
      "metadata": {
        "colab": {
          "base_uri": "https://localhost:8080/",
          "height": 348
        },
        "id": "a31e7656",
        "outputId": "9a8a0c27-8e2f-476b-a087-2f9ff44fcbeb"
      },
      "outputs": [
        {
          "output_type": "execute_result",
          "data": {
            "text/plain": [
              "<matplotlib.axes._subplots.AxesSubplot at 0x7f6bc112fad0>"
            ]
          },
          "metadata": {},
          "execution_count": 280
        },
        {
          "output_type": "display_data",
          "data": {
            "text/plain": [
              "<Figure size 1440x360 with 1 Axes>"
            ],
            "image/png": "[encoded data removed]"
          },
          "metadata": {
            "needs_background": "light"
          }
        }
      ],
      "source": [
        "plt.figure(figsize=(20,5))\n",
        "sns.boxplot(data=df_drop)"
      ]
    },
    {
      "cell_type": "code",
      "execution_count": 281,
      "id": "12adeb7c",
      "metadata": {
        "colab": {
          "base_uri": "https://localhost:8080/"
        },
        "id": "12adeb7c",
        "outputId": "611d1dd0-96bb-4f68-da26-28f01b6a1741"
      },
      "outputs": [
        {
          "output_type": "execute_result",
          "data": {
            "text/plain": [
              "(36176, 12)"
            ]
          },
          "metadata": {},
          "execution_count": 281
        }
      ],
      "source": [
        "df_drop.shape"
      ]
    },
    {
      "cell_type": "markdown",
      "id": "549bae30",
      "metadata": {
        "id": "549bae30"
      },
      "source": [
        "##### From the above boxplot we can see that there are a lot of outliers in \"InitialIncurredCalimsCost\" and \"UltimateIncurredClaimCost\"."
      ]
    },
    {
      "cell_type": "code",
      "execution_count": 282,
      "id": "31dc59c0",
      "metadata": {
        "id": "31dc59c0"
      },
      "outputs": [],
      "source": [
        "for i in range(4):\n",
        "\n",
        "    limit1=3*df_drop['InitialIncurredCalimsCost'].std()\n",
        "\n",
        "    lower_limit1=df_drop['InitialIncurredCalimsCost'].mean()-limit1\n",
        "    upper_limit1=df_drop['InitialIncurredCalimsCost'].mean()+limit1\n",
        "\n",
        "    df_drop=df_drop[(df_drop['InitialIncurredCalimsCost']>lower_limit1)&(df_drop['InitialIncurredCalimsCost']<upper_limit1)]\n",
        "\n",
        "    limit2=3*df_drop['UltimateIncurredClaimCost'].std()\n",
        "\n",
        "    lower_limit2=df_drop['UltimateIncurredClaimCost'].mean()-limit2\n",
        "    upper_limit2=df_drop['UltimateIncurredClaimCost'].mean()+limit2\n",
        "\n",
        "    df_drop=df_drop[(df_drop['UltimateIncurredClaimCost']>lower_limit2)&(df_drop['UltimateIncurredClaimCost']<upper_limit2)]"
      ]
    },
    {
      "cell_type": "code",
      "execution_count": 283,
      "id": "1313edad",
      "metadata": {
        "colab": {
          "base_uri": "https://localhost:8080/",
          "height": 337
        },
        "id": "1313edad",
        "outputId": "79db5ffb-7e9f-47a3-8d12-813be361a8f4"
      },
      "outputs": [
        {
          "output_type": "execute_result",
          "data": {
            "text/plain": [
              "<matplotlib.axes._subplots.AxesSubplot at 0x7f6bc1b79890>"
            ]
          },
          "metadata": {},
          "execution_count": 283
        },
        {
          "output_type": "display_data",
          "data": {
            "text/plain": [
              "<Figure size 1440x360 with 1 Axes>"
            ],
            "image/png": "[encoded data removed]"
          },
          "metadata": {
            "needs_background": "light"
          }
        }
      ],
      "source": [
        "plt.figure(figsize=(20,5))\n",
        "sns.boxplot(data=df_drop)"
      ]
    },
    {
      "cell_type": "markdown",
      "id": "9b262344",
      "metadata": {
        "id": "9b262344"
      },
      "source": [
        "## Machine Learning Model"
      ]
    },
    {
      "cell_type": "markdown",
      "id": "ea4b0fab",
      "metadata": {
        "id": "ea4b0fab"
      },
      "source": [
        "### Linear Regression Model"
      ]
    },
    {
      "cell_type": "markdown",
      "id": "05d6a41b",
      "metadata": {
        "id": "05d6a41b"
      },
      "source": [
        "##### Importing the libraries for the modeling."
      ]
    },
    {
      "cell_type": "code",
      "execution_count": 284,
      "id": "46bf624e",
      "metadata": {
        "id": "46bf624e"
      },
      "outputs": [],
      "source": [
        "from sklearn.linear_model import LinearRegression\n",
        "import sklearn.preprocessing as pre\n",
        "from sklearn.preprocessing import LabelEncoder\n",
        "from sklearn.model_selection import train_test_split\n",
        "le=pre.LabelEncoder()\n",
        "from sklearn.metrics import r2_score"
      ]
    },
    {
      "cell_type": "code",
      "execution_count": 285,
      "id": "f0608de0",
      "metadata": {
        "id": "f0608de0"
      },
      "outputs": [],
      "source": [
        "for x in df.select_dtypes(include='object').columns:\n",
        "    df[x]=le.fit_transform(df[x])"
      ]
    },
    {
      "cell_type": "code",
      "execution_count": 286,
      "id": "59eec24c",
      "metadata": {
        "id": "59eec24c"
      },
      "outputs": [],
      "source": [
        "X_scale=df_drop.drop(['UltimateIncurredClaimCost'],axis='columns')\n",
        "cat_df=X_scale.select_dtypes(exclude=[float,int]).columns\n",
        "for i in cat_df :\n",
        "    X_scale[str(i)]=le.fit_transform(X_scale[str(i)])\n",
        "X_scale=X_scale.apply(pre.minmax_scale)\n",
        "Y=df_drop['UltimateIncurredClaimCost']"
      ]
    },
    {
      "cell_type": "code",
      "execution_count": 287,
      "id": "f23e9d4e",
      "metadata": {
        "id": "f23e9d4e"
      },
      "outputs": [],
      "source": [
        "#Splitting the data into test and train data\n",
        "x_train,x_test,y_train,y_test=train_test_split(X_scale,Y,test_size=0.3,random_state=1234456)"
      ]
    },
    {
      "cell_type": "code",
      "execution_count": 288,
      "id": "e38002d2",
      "metadata": {
        "colab": {
          "base_uri": "https://localhost:8080/"
        },
        "id": "e38002d2",
        "outputId": "6b68d30b-4b3e-40d3-8e46-729451bca482"
      },
      "outputs": [
        {
          "output_type": "execute_result",
          "data": {
            "text/plain": [
              "((21375, 11), (9162, 11), (21375,), (9162,))"
            ]
          },
          "metadata": {},
          "execution_count": 288
        }
      ],
      "source": [
        "#checking the shape of the test and train set\n",
        "x_train.shape,x_test.shape,y_train.shape,y_test.shape"
      ]
    },
    {
      "cell_type": "code",
      "execution_count": 289,
      "id": "ff793f05",
      "metadata": {
        "id": "ff793f05"
      },
      "outputs": [],
      "source": [
        "import sklearn.linear_model as lm"
      ]
    },
    {
      "cell_type": "code",
      "execution_count": 290,
      "id": "ccdc3bc2",
      "metadata": {
        "id": "ccdc3bc2"
      },
      "outputs": [],
      "source": [
        "#creating the linear regression model\n",
        "glm=lm.LinearRegression()"
      ]
    },
    {
      "cell_type": "code",
      "execution_count": 291,
      "id": "b46f759a",
      "metadata": {
        "colab": {
          "base_uri": "https://localhost:8080/"
        },
        "id": "b46f759a",
        "outputId": "280d4925-d0a0-44f1-9579-5380a8693517"
      },
      "outputs": [
        {
          "output_type": "execute_result",
          "data": {
            "text/plain": [
              "LinearRegression()"
            ]
          },
          "metadata": {},
          "execution_count": 291
        }
      ],
      "source": [
        "#Fitting the model\n",
        "glm.fit(x_train,y_train)"
      ]
    },
    {
      "cell_type": "code",
      "execution_count": 292,
      "id": "919857c3",
      "metadata": {
        "colab": {
          "base_uri": "https://localhost:8080/"
        },
        "id": "919857c3",
        "outputId": "45595d24-946b-45c8-da95-f54278a7660f"
      },
      "outputs": [
        {
          "output_type": "execute_result",
          "data": {
            "text/plain": [
              "0.6891054728885728"
            ]
          },
          "metadata": {},
          "execution_count": 292
        }
      ],
      "source": [
        "#Checking the test score\n",
        "glm.score(x_test,y_test)"
      ]
    },
    {
      "cell_type": "code",
      "execution_count": 293,
      "id": "f49952e2",
      "metadata": {
        "colab": {
          "base_uri": "https://localhost:8080/"
        },
        "id": "f49952e2",
        "outputId": "22897195-41f6-4c24-fcbe-3ed86c44d5ab"
      },
      "outputs": [
        {
          "output_type": "execute_result",
          "data": {
            "text/plain": [
              "0.675191214420686"
            ]
          },
          "metadata": {},
          "execution_count": 293
        }
      ],
      "source": [
        "#Checking the train score\n",
        "glm.score(x_train,y_train)"
      ]
    },
    {
      "cell_type": "code",
      "execution_count": 294,
      "id": "41d04b6d",
      "metadata": {
        "colab": {
          "base_uri": "https://localhost:8080/"
        },
        "id": "41d04b6d",
        "outputId": "90328cd3-b190-4cb6-9aef-a11a734f353e"
      },
      "outputs": [
        {
          "output_type": "stream",
          "name": "stdout",
          "text": [
            "R^2 is: \n",
            " 0.6891054728885728\n"
          ]
        }
      ],
      "source": [
        "# Checking the R square value\n",
        "print (\"R^2 is: \\n\", glm.score(x_test, y_test))"
      ]
    },
    {
      "cell_type": "code",
      "execution_count": 295,
      "id": "09badc93",
      "metadata": {
        "id": "09badc93"
      },
      "outputs": [],
      "source": [
        "#Predictions on the test data set.\n",
        "y_pred = glm.predict(x_test)"
      ]
    },
    {
      "cell_type": "code",
      "execution_count": 296,
      "id": "8520c6f8",
      "metadata": {
        "colab": {
          "base_uri": "https://localhost:8080/"
        },
        "id": "8520c6f8",
        "outputId": "353036b2-4c24-40c3-93bb-1fe002a5cef7"
      },
      "outputs": [
        {
          "output_type": "stream",
          "name": "stdout",
          "text": [
            "RMSE is: \n",
            " 1907.5440423880095\n"
          ]
        }
      ],
      "source": [
        "# Checking the RMSE score\n",
        "from sklearn.metrics import mean_squared_error\n",
        "print ('RMSE is: \\n', mean_squared_error(y_test, y_pred,squared=False))"
      ]
    },
    {
      "cell_type": "code",
      "execution_count": 297,
      "id": "1fad3614",
      "metadata": {
        "colab": {
          "base_uri": "https://localhost:8080/",
          "height": 295
        },
        "id": "1fad3614",
        "outputId": "3ed91971-ae6a-4e5b-d7df-37e607fee5ac"
      },
      "outputs": [
        {
          "output_type": "display_data",
          "data": {
            "text/plain": [
              "<Figure size 432x288 with 1 Axes>"
            ],
            "image/png": "[encoded data removed]"
          },
          "metadata": {
            "needs_background": "light"
          }
        }
      ],
      "source": [
        "#Plotting the scatter plot between the predicted value and the actual values\n",
        "actual_values = y_test\n",
        "plt.scatter(y_pred, actual_values, alpha=.7,\n",
        "            color='g')\n",
        "plt.xlabel('Predicted Value')\n",
        "plt.ylabel('Actual Value')\n",
        "plt.title('Linear Regression Model')\n",
        "plt.show()"
      ]
    },
    {
      "cell_type": "markdown",
      "id": "97f3c750",
      "metadata": {
        "id": "97f3c750"
      },
      "source": [
        "### Decision tree regressor"
      ]
    },
    {
      "cell_type": "code",
      "execution_count": 298,
      "id": "f5e8784c",
      "metadata": {
        "id": "f5e8784c"
      },
      "outputs": [],
      "source": [
        "#Importing the decision tree regressor\n",
        "from sklearn.tree import DecisionTreeRegressor"
      ]
    },
    {
      "cell_type": "code",
      "execution_count": 299,
      "id": "5f2b1274",
      "metadata": {
        "id": "5f2b1274"
      },
      "outputs": [],
      "source": [
        "# creating the model\n",
        "dt= DecisionTreeRegressor()"
      ]
    },
    {
      "cell_type": "code",
      "execution_count": 300,
      "id": "65c7141c",
      "metadata": {
        "colab": {
          "base_uri": "https://localhost:8080/"
        },
        "id": "65c7141c",
        "outputId": "2468236e-f941-4399-caf8-5990d37a7cc1"
      },
      "outputs": [
        {
          "output_type": "execute_result",
          "data": {
            "text/plain": [
              "DecisionTreeRegressor()"
            ]
          },
          "metadata": {},
          "execution_count": 300
        }
      ],
      "source": [
        "#Fitting the data \n",
        "dt.fit(x_train, y_train)"
      ]
    },
    {
      "cell_type": "code",
      "execution_count": 301,
      "id": "e3e80a0a",
      "metadata": {
        "id": "e3e80a0a"
      },
      "outputs": [],
      "source": [
        "# predicting the test set results\n",
        "y_pred1= dt.predict(x_test)"
      ]
    },
    {
      "cell_type": "code",
      "execution_count": 302,
      "id": "e51cc006",
      "metadata": {
        "colab": {
          "base_uri": "https://localhost:8080/"
        },
        "id": "e51cc006",
        "outputId": "76fb765f-b7c9-40d0-b37c-611d68d63bec"
      },
      "outputs": [
        {
          "output_type": "stream",
          "name": "stdout",
          "text": [
            "R^2 is: \n",
            " 0.5009138865854973\n"
          ]
        }
      ],
      "source": [
        "# Calculating the r2 score\n",
        "print (\"R^2 is: \\n\", dt.score(x_test, y_test))"
      ]
    },
    {
      "cell_type": "code",
      "execution_count": 303,
      "id": "3363d6c0",
      "metadata": {
        "scrolled": true,
        "colab": {
          "base_uri": "https://localhost:8080/"
        },
        "id": "3363d6c0",
        "outputId": "78ef1263-7eb3-4d2d-fcea-00514e171e49"
      },
      "outputs": [
        {
          "output_type": "stream",
          "name": "stdout",
          "text": [
            "RMSE is: \n",
            " 2416.883843949025\n"
          ]
        }
      ],
      "source": [
        "#Checking the RMSE value\n",
        "from sklearn.metrics import mean_squared_error\n",
        "print ('RMSE is: \\n', mean_squared_error(y_test, y_pred1,squared=False))"
      ]
    },
    {
      "cell_type": "markdown",
      "id": "2c6212eb",
      "metadata": {
        "id": "2c6212eb"
      },
      "source": [
        "### Random Forest Regressor "
      ]
    },
    {
      "cell_type": "code",
      "execution_count": 304,
      "id": "28ccb0e0",
      "metadata": {
        "colab": {
          "base_uri": "https://localhost:8080/"
        },
        "id": "28ccb0e0",
        "outputId": "bfc70dfa-fe28-417b-8b8b-4794f0f969cc"
      },
      "outputs": [
        {
          "output_type": "execute_result",
          "data": {
            "text/plain": [
              "RandomForestRegressor(n_estimators=10, random_state=0)"
            ]
          },
          "metadata": {},
          "execution_count": 304
        }
      ],
      "source": [
        "from sklearn.ensemble import RandomForestRegressor\n",
        "rf = RandomForestRegressor(n_estimators = 10, random_state = 0)\n",
        "rf.fit(x_train, y_train)"
      ]
    },
    {
      "cell_type": "code",
      "execution_count": 305,
      "id": "9ccd9f8c",
      "metadata": {
        "colab": {
          "base_uri": "https://localhost:8080/"
        },
        "id": "9ccd9f8c",
        "outputId": "acad13a0-4715-4de1-a00d-40878e3e31aa"
      },
      "outputs": [
        {
          "output_type": "execute_result",
          "data": {
            "text/plain": [
              "0.7234694097067186"
            ]
          },
          "metadata": {},
          "execution_count": 305
        }
      ],
      "source": [
        "#checking the test score\n",
        "rf.score(x_test,y_test)"
      ]
    },
    {
      "cell_type": "code",
      "execution_count": 306,
      "id": "89444ccf",
      "metadata": {
        "colab": {
          "base_uri": "https://localhost:8080/"
        },
        "id": "89444ccf",
        "outputId": "9e42f21e-9d73-4d3c-e732-a8452a7f682d"
      },
      "outputs": [
        {
          "output_type": "execute_result",
          "data": {
            "text/plain": [
              "0.9503745742664778"
            ]
          },
          "metadata": {},
          "execution_count": 306
        }
      ],
      "source": [
        "#Checking the train score\n",
        "rf.score(x_train,y_train)"
      ]
    },
    {
      "cell_type": "code",
      "execution_count": 307,
      "id": "7efdbe5b",
      "metadata": {
        "colab": {
          "base_uri": "https://localhost:8080/"
        },
        "id": "7efdbe5b",
        "outputId": "00f9d7fc-4f3a-420b-e98d-9844623db72f"
      },
      "outputs": [
        {
          "output_type": "stream",
          "name": "stdout",
          "text": [
            "R^2 is: \n",
            " 0.7234694097067186\n"
          ]
        }
      ],
      "source": [
        "#Checking the r2 score\n",
        "print (\"R^2 is: \\n\", rf.score(x_test, y_test))"
      ]
    },
    {
      "cell_type": "code",
      "execution_count": 308,
      "id": "0828649e",
      "metadata": {
        "scrolled": true,
        "colab": {
          "base_uri": "https://localhost:8080/"
        },
        "id": "0828649e",
        "outputId": "d8611e74-302e-4e52-eeac-548977449c39"
      },
      "outputs": [
        {
          "output_type": "stream",
          "name": "stdout",
          "text": [
            "RMSE is: \n",
            " 1799.035055014493\n"
          ]
        }
      ],
      "source": [
        "#checking the predicted value\n",
        "y_pred2= rf.predict(x_test)\n",
        "print ('RMSE is: \\n', mean_squared_error(y_test, y_pred2,squared=False))"
      ]
    },
    {
      "cell_type": "markdown",
      "id": "008ba62e",
      "metadata": {
        "id": "008ba62e"
      },
      "source": [
        "### Working on Test Data"
      ]
    },
    {
      "cell_type": "code",
      "execution_count": 309,
      "id": "7a80e29b",
      "metadata": {
        "id": "7a80e29b"
      },
      "outputs": [],
      "source": [
        "df1=pd.read_csv(\"/content/Vehicle-Insurance-Claim-Prediction/Test_SJC.csv\")"
      ]
    },
    {
      "cell_type": "code",
      "execution_count": 196,
      "id": "81433beb",
      "metadata": {
        "colab": {
          "base_uri": "https://localhost:8080/"
        },
        "id": "81433beb",
        "outputId": "5a2896a5-3b6e-408e-a63a-20b876b466f4"
      },
      "outputs": [
        {
          "output_type": "stream",
          "name": "stdout",
          "text": [
            "<class 'pandas.core.frame.DataFrame'>\n",
            "RangeIndex: 17824 entries, 0 to 17823\n",
            "Data columns (total 14 columns):\n",
            " #   Column                     Non-Null Count  Dtype  \n",
            "---  ------                     --------------  -----  \n",
            " 0   ClaimNumber                17824 non-null  object \n",
            " 1   DateTimeOfAccident         17824 non-null  object \n",
            " 2   DateReported               17824 non-null  object \n",
            " 3   Age                        17824 non-null  int64  \n",
            " 4   Gender                     17824 non-null  object \n",
            " 5   MaritalStatus              17817 non-null  object \n",
            " 6   DependentChildren          17824 non-null  int64  \n",
            " 7   DependentsOther            17824 non-null  int64  \n",
            " 8   WeeklyWages                17824 non-null  float64\n",
            " 9   PartTimeFullTime           17824 non-null  object \n",
            " 10  HoursWorkedPerWeek         17824 non-null  float64\n",
            " 11  DaysWorkedPerWeek          17824 non-null  int64  \n",
            " 12  ClaimDescription           17824 non-null  object \n",
            " 13  InitialIncurredCalimsCost  17824 non-null  int64  \n",
            "dtypes: float64(2), int64(5), object(7)\n",
            "memory usage: 1.9+ MB\n"
          ]
        }
      ],
      "source": [
        "#Checking information on test data\n",
        "df1.info()"
      ]
    },
    {
      "cell_type": "code",
      "execution_count": 310,
      "id": "7fab1e28",
      "metadata": {
        "colab": {
          "base_uri": "https://localhost:8080/",
          "height": 300
        },
        "id": "7fab1e28",
        "outputId": "5d7f7d4c-13d8-40e4-f06f-fd803d2c940a"
      },
      "outputs": [
        {
          "output_type": "execute_result",
          "data": {
            "text/plain": [
              "                Age  DependentChildren  DependentsOther   WeeklyWages  \\\n",
              "count  17824.000000       17824.000000     17824.000000  17824.000000   \n",
              "mean      33.938117           0.114901         0.010772    416.177867   \n",
              "std       12.137019           0.501956         0.115541    258.188850   \n",
              "min       13.000000           0.000000         0.000000      1.000000   \n",
              "25%       24.000000           0.000000         0.000000    200.000000   \n",
              "50%       32.000000           0.000000         0.000000    390.000000   \n",
              "75%       43.000000           0.000000         0.000000    500.000000   \n",
              "max       81.000000           6.000000         5.000000   7497.000000   \n",
              "\n",
              "       HoursWorkedPerWeek  DaysWorkedPerWeek  InitialIncurredCalimsCost  \n",
              "count        17824.000000       17824.000000               1.782400e+04  \n",
              "mean            37.671636           4.905689               8.039140e+03  \n",
              "std             12.732846           0.562258               2.468988e+04  \n",
              "min              0.000000           1.000000               1.000000e+00  \n",
              "25%             38.000000           5.000000               7.000000e+02  \n",
              "50%             38.000000           5.000000               2.000000e+03  \n",
              "75%             40.000000           5.000000               9.500000e+03  \n",
              "max            638.000000           7.000000               2.000000e+06  "
            ],
            "text/html": [
              "\n",
              "  <div id=\"df-a3507895-e1eb-4927-8771-343f29ef988b\">\n",
              "    <div class=\"colab-df-container\">\n",
              "      <div>\n",
              "<style scoped>\n",
              "    .dataframe tbody tr th:only-of-type {\n",
              "        vertical-align: middle;\n",
              "    }\n",
              "\n",
              "    .dataframe tbody tr th {\n",
              "        vertical-align: top;\n",
              "    }\n",
              "\n",
              "    .dataframe thead th {\n",
              "        text-align: right;\n",
              "    }\n",
              "</style>\n",
              "<table border=\"1\" class=\"dataframe\">\n",
              "  <thead>\n",
              "    <tr style=\"text-align: right;\">\n",
              "      <th></th>\n",
              "      <th>Age</th>\n",
              "      <th>DependentChildren</th>\n",
              "      <th>DependentsOther</th>\n",
              "      <th>WeeklyWages</th>\n",
              "      <th>HoursWorkedPerWeek</th>\n",
              "      <th>DaysWorkedPerWeek</th>\n",
              "      <th>InitialIncurredCalimsCost</th>\n",
              "    </tr>\n",
              "  </thead>\n",
              "  <tbody>\n",
              "    <tr>\n",
              "      <th>count</th>\n",
              "      <td>17824.000000</td>\n",
              "      <td>17824.000000</td>\n",
              "      <td>17824.000000</td>\n",
              "      <td>17824.000000</td>\n",
              "      <td>17824.000000</td>\n",
              "      <td>17824.000000</td>\n",
              "      <td>1.782400e+04</td>\n",
              "    </tr>\n",
              "    <tr>\n",
              "      <th>mean</th>\n",
              "      <td>33.938117</td>\n",
              "      <td>0.114901</td>\n",
              "      <td>0.010772</td>\n",
              "      <td>416.177867</td>\n",
              "      <td>37.671636</td>\n",
              "      <td>4.905689</td>\n",
              "      <td>8.039140e+03</td>\n",
              "    </tr>\n",
              "    <tr>\n",
              "      <th>std</th>\n",
              "      <td>12.137019</td>\n",
              "      <td>0.501956</td>\n",
              "      <td>0.115541</td>\n",
              "      <td>258.188850</td>\n",
              "      <td>12.732846</td>\n",
              "      <td>0.562258</td>\n",
              "      <td>2.468988e+04</td>\n",
              "    </tr>\n",
              "    <tr>\n",
              "      <th>min</th>\n",
              "      <td>13.000000</td>\n",
              "      <td>0.000000</td>\n",
              "      <td>0.000000</td>\n",
              "      <td>1.000000</td>\n",
              "      <td>0.000000</td>\n",
              "      <td>1.000000</td>\n",
              "      <td>1.000000e+00</td>\n",
              "    </tr>\n",
              "    <tr>\n",
              "      <th>25%</th>\n",
              "      <td>24.000000</td>\n",
              "      <td>0.000000</td>\n",
              "      <td>0.000000</td>\n",
              "      <td>200.000000</td>\n",
              "      <td>38.000000</td>\n",
              "      <td>5.000000</td>\n",
              "      <td>7.000000e+02</td>\n",
              "    </tr>\n",
              "    <tr>\n",
              "      <th>50%</th>\n",
              "      <td>32.000000</td>\n",
              "      <td>0.000000</td>\n",
              "      <td>0.000000</td>\n",
              "      <td>390.000000</td>\n",
              "      <td>38.000000</td>\n",
              "      <td>5.000000</td>\n",
              "      <td>2.000000e+03</td>\n",
              "    </tr>\n",
              "    <tr>\n",
              "      <th>75%</th>\n",
              "      <td>43.000000</td>\n",
              "      <td>0.000000</td>\n",
              "      <td>0.000000</td>\n",
              "      <td>500.000000</td>\n",
              "      <td>40.000000</td>\n",
              "      <td>5.000000</td>\n",
              "      <td>9.500000e+03</td>\n",
              "    </tr>\n",
              "    <tr>\n",
              "      <th>max</th>\n",
              "      <td>81.000000</td>\n",
              "      <td>6.000000</td>\n",
              "      <td>5.000000</td>\n",
              "      <td>7497.000000</td>\n",
              "      <td>638.000000</td>\n",
              "      <td>7.000000</td>\n",
              "      <td>2.000000e+06</td>\n",
              "    </tr>\n",
              "  </tbody>\n",
              "</table>\n",
              "</div>\n",
              "      <button class=\"colab-df-convert\" onclick=\"convertToInteractive('df-a3507895-e1eb-4927-8771-343f29ef988b')\"\n",
              "              title=\"Convert this dataframe to an interactive table.\"\n",
              "              style=\"display:none;\">\n",
              "        \n",
              "  <svg xmlns=\"http://www.w3.org/2000/svg\" height=\"24px\"viewBox=\"0 0 24 24\"\n",
              "       width=\"24px\">\n",
              "    <path d=\"M0 0h24v24H0V0z\" fill=\"none\"/>\n",
              "    <path d=\"M18.56 5.44l.94 2.06.94-2.06 2.06-.94-2.06-.94-.94-2.06-.94 2.06-2.06.94zm-11 1L8.5 8.5l.94-2.06 2.06-.94-2.06-.94L8.5 2.5l-.94 2.06-2.06.94zm10 10l.94 2.06.94-2.06 2.06-.94-2.06-.94-.94-2.06-.94 2.06-2.06.94z\"/><path d=\"M17.41 7.96l-1.37-1.37c-.4-.4-.92-.59-1.43-.59-.52 0-1.04.2-1.43.59L10.3 9.45l-7.72 7.72c-.78.78-.78 2.05 0 2.83L4 21.41c.39.39.9.59 1.41.59.51 0 1.02-.2 1.41-.59l7.78-7.78 2.81-2.81c.8-.78.8-2.07 0-2.86zM5.41 20L4 18.59l7.72-7.72 1.47 1.35L5.41 20z\"/>\n",
              "  </svg>\n",
              "      </button>\n",
              "      \n",
              "  <style>\n",
              "    .colab-df-container {\n",
              "      display:flex;\n",
              "      flex-wrap:wrap;\n",
              "      gap: 12px;\n",
              "    }\n",
              "\n",
              "    .colab-df-convert {\n",
              "      background-color: #E8F0FE;\n",
              "      border: none;\n",
              "      border-radius: 50%;\n",
              "      cursor: pointer;\n",
              "      display: none;\n",
              "      fill: #1967D2;\n",
              "      height: 32px;\n",
              "      padding: 0 0 0 0;\n",
              "      width: 32px;\n",
              "    }\n",
              "\n",
              "    .colab-df-convert:hover {\n",
              "      background-color: #E2EBFA;\n",
              "      box-shadow: 0px 1px 2px rgba(60, 64, 67, 0.3), 0px 1px 3px 1px rgba(60, 64, 67, 0.15);\n",
              "      fill: #174EA6;\n",
              "    }\n",
              "\n",
              "    [theme=dark] .colab-df-convert {\n",
              "      background-color: #3B4455;\n",
              "      fill: #D2E3FC;\n",
              "    }\n",
              "\n",
              "    [theme=dark] .colab-df-convert:hover {\n",
              "      background-color: #434B5C;\n",
              "      box-shadow: 0px 1px 3px 1px rgba(0, 0, 0, 0.15);\n",
              "      filter: drop-shadow(0px 1px 2px rgba(0, 0, 0, 0.3));\n",
              "      fill: #FFFFFF;\n",
              "    }\n",
              "  </style>\n",
              "\n",
              "      <script>\n",
              "        const buttonEl =\n",
              "          document.querySelector('#df-a3507895-e1eb-4927-8771-343f29ef988b button.colab-df-convert');\n",
              "        buttonEl.style.display =\n",
              "          google.colab.kernel.accessAllowed ? 'block' : 'none';\n",
              "\n",
              "        async function convertToInteractive(key) {\n",
              "          const element = document.querySelector('#df-a3507895-e1eb-4927-8771-343f29ef988b');\n",
              "          const dataTable =\n",
              "            await google.colab.kernel.invokeFunction('convertToInteractive',\n",
              "                                                     [key], {});\n",
              "          if (!dataTable) return;\n",
              "\n",
              "          const docLinkHtml = 'Like what you see? Visit the ' +\n",
              "            '<a target=\"_blank\" href=https://colab.research.google.com/notebooks/data_table.ipynb>data table notebook</a>'\n",
              "            + ' to learn more about interactive tables.';\n",
              "          element.innerHTML = '';\n",
              "          dataTable['output_type'] = 'display_data';\n",
              "          await google.colab.output.renderOutput(dataTable, element);\n",
              "          const docLink = document.createElement('div');\n",
              "          docLink.innerHTML = docLinkHtml;\n",
              "          element.appendChild(docLink);\n",
              "        }\n",
              "      </script>\n",
              "    </div>\n",
              "  </div>\n",
              "  "
            ]
          },
          "metadata": {},
          "execution_count": 310
        }
      ],
      "source": [
        " #checking the description of test data\n",
        "df1.describe()"
      ]
    },
    {
      "cell_type": "code",
      "execution_count": 311,
      "id": "926c1eb6",
      "metadata": {
        "colab": {
          "base_uri": "https://localhost:8080/",
          "height": 496
        },
        "id": "926c1eb6",
        "outputId": "e42d9d80-4183-4d81-85f7-fd9f08cce44a"
      },
      "outputs": [
        {
          "output_type": "execute_result",
          "data": {
            "text/plain": [
              "  ClaimNumber    DateTimeOfAccident          DateReported  Age Gender  \\\n",
              "0   WC8476284  2002-04-19T16:00:00Z  2002-05-13T00:00:00Z   38      M   \n",
              "1   WC2445024  1989-09-26T08:00:00Z  1989-10-14T00:00:00Z   38      F   \n",
              "2   WC4566945  1994-05-02T13:00:00Z  1994-05-17T00:00:00Z   24      M   \n",
              "3   WC9911299  2005-11-26T06:00:00Z  2006-01-07T00:00:00Z   21      M   \n",
              "4   WC9066190  2003-03-12T13:00:00Z  2003-04-10T00:00:00Z   32      M   \n",
              "\n",
              "  MaritalStatus  DependentChildren  DependentsOther  WeeklyWages  \\\n",
              "0             M                  0                0       500.00   \n",
              "1             M                  0                0       350.00   \n",
              "2             S                  0                0       487.50   \n",
              "3             S                  0                0       431.62   \n",
              "4             M                  3                0       480.50   \n",
              "\n",
              "  PartTimeFullTime  HoursWorkedPerWeek  DaysWorkedPerWeek  \\\n",
              "0                F               40.00                  5   \n",
              "1                P               29.75                  4   \n",
              "2                F               38.00                  5   \n",
              "3                F               40.00                  5   \n",
              "4                F               38.00                  5   \n",
              "\n",
              "                                    ClaimDescription  \\\n",
              "0  STRUCK VALVES ABRASIONS LEFT LEG LACERATED LEF...   \n",
              "1             LIFTING PATIENT PAIN IN LOWER BACK LEG   \n",
              "2               LIFTING BOXES LOWER BACK BACK INJURY   \n",
              "3      STRUCK LADDER BRUISED RIGHT KNEE MUSCLE RIGHT   \n",
              "4               FELL OFF LADDER FRACTURE RIGHT WRIST   \n",
              "\n",
              "   InitialIncurredCalimsCost  \n",
              "0                       1000  \n",
              "1                       3500  \n",
              "2                       7500  \n",
              "3                       1000  \n",
              "4                     111077  "
            ],
            "text/html": [
              "\n",
              "  <div id=\"df-94cb07a9-0727-4270-adf6-3564ea6c6503\">\n",
              "    <div class=\"colab-df-container\">\n",
              "      <div>\n",
              "<style scoped>\n",
              "    .dataframe tbody tr th:only-of-type {\n",
              "        vertical-align: middle;\n",
              "    }\n",
              "\n",
              "    .dataframe tbody tr th {\n",
              "        vertical-align: top;\n",
              "    }\n",
              "\n",
              "    .dataframe thead th {\n",
              "        text-align: right;\n",
              "    }\n",
              "</style>\n",
              "<table border=\"1\" class=\"dataframe\">\n",
              "  <thead>\n",
              "    <tr style=\"text-align: right;\">\n",
              "      <th></th>\n",
              "      <th>ClaimNumber</th>\n",
              "      <th>DateTimeOfAccident</th>\n",
              "      <th>DateReported</th>\n",
              "      <th>Age</th>\n",
              "      <th>Gender</th>\n",
              "      <th>MaritalStatus</th>\n",
              "      <th>DependentChildren</th>\n",
              "      <th>DependentsOther</th>\n",
              "      <th>WeeklyWages</th>\n",
              "      <th>PartTimeFullTime</th>\n",
              "      <th>HoursWorkedPerWeek</th>\n",
              "      <th>DaysWorkedPerWeek</th>\n",
              "      <th>ClaimDescription</th>\n",
              "      <th>InitialIncurredCalimsCost</th>\n",
              "    </tr>\n",
              "  </thead>\n",
              "  <tbody>\n",
              "    <tr>\n",
              "      <th>0</th>\n",
              "      <td>WC8476284</td>\n",
              "      <td>2002-04-19T16:00:00Z</td>\n",
              "      <td>2002-05-13T00:00:00Z</td>\n",
              "      <td>38</td>\n",
              "      <td>M</td>\n",
              "      <td>M</td>\n",
              "      <td>0</td>\n",
              "      <td>0</td>\n",
              "      <td>500.00</td>\n",
              "      <td>F</td>\n",
              "      <td>40.00</td>\n",
              "      <td>5</td>\n",
              "      <td>STRUCK VALVES ABRASIONS LEFT LEG LACERATED LEF...</td>\n",
              "      <td>1000</td>\n",
              "    </tr>\n",
              "    <tr>\n",
              "      <th>1</th>\n",
              "      <td>WC2445024</td>\n",
              "      <td>1989-09-26T08:00:00Z</td>\n",
              "      <td>1989-10-14T00:00:00Z</td>\n",
              "      <td>38</td>\n",
              "      <td>F</td>\n",
              "      <td>M</td>\n",
              "      <td>0</td>\n",
              "      <td>0</td>\n",
              "      <td>350.00</td>\n",
              "      <td>P</td>\n",
              "      <td>29.75</td>\n",
              "      <td>4</td>\n",
              "      <td>LIFTING PATIENT PAIN IN LOWER BACK LEG</td>\n",
              "      <td>3500</td>\n",
              "    </tr>\n",
              "    <tr>\n",
              "      <th>2</th>\n",
              "      <td>WC4566945</td>\n",
              "      <td>1994-05-02T13:00:00Z</td>\n",
              "      <td>1994-05-17T00:00:00Z</td>\n",
              "      <td>24</td>\n",
              "      <td>M</td>\n",
              "      <td>S</td>\n",
              "      <td>0</td>\n",
              "      <td>0</td>\n",
              "      <td>487.50</td>\n",
              "      <td>F</td>\n",
              "      <td>38.00</td>\n",
              "      <td>5</td>\n",
              "      <td>LIFTING BOXES LOWER BACK BACK INJURY</td>\n",
              "      <td>7500</td>\n",
              "    </tr>\n",
              "    <tr>\n",
              "      <th>3</th>\n",
              "      <td>WC9911299</td>\n",
              "      <td>2005-11-26T06:00:00Z</td>\n",
              "      <td>2006-01-07T00:00:00Z</td>\n",
              "      <td>21</td>\n",
              "      <td>M</td>\n",
              "      <td>S</td>\n",
              "      <td>0</td>\n",
              "      <td>0</td>\n",
              "      <td>431.62</td>\n",
              "      <td>F</td>\n",
              "      <td>40.00</td>\n",
              "      <td>5</td>\n",
              "      <td>STRUCK LADDER BRUISED RIGHT KNEE MUSCLE RIGHT</td>\n",
              "      <td>1000</td>\n",
              "    </tr>\n",
              "    <tr>\n",
              "      <th>4</th>\n",
              "      <td>WC9066190</td>\n",
              "      <td>2003-03-12T13:00:00Z</td>\n",
              "      <td>2003-04-10T00:00:00Z</td>\n",
              "      <td>32</td>\n",
              "      <td>M</td>\n",
              "      <td>M</td>\n",
              "      <td>3</td>\n",
              "      <td>0</td>\n",
              "      <td>480.50</td>\n",
              "      <td>F</td>\n",
              "      <td>38.00</td>\n",
              "      <td>5</td>\n",
              "      <td>FELL OFF LADDER FRACTURE RIGHT WRIST</td>\n",
              "      <td>111077</td>\n",
              "    </tr>\n",
              "  </tbody>\n",
              "</table>\n",
              "</div>\n",
              "      <button class=\"colab-df-convert\" onclick=\"convertToInteractive('df-94cb07a9-0727-4270-adf6-3564ea6c6503')\"\n",
              "              title=\"Convert this dataframe to an interactive table.\"\n",
              "              style=\"display:none;\">\n",
              "        \n",
              "  <svg xmlns=\"http://www.w3.org/2000/svg\" height=\"24px\"viewBox=\"0 0 24 24\"\n",
              "       width=\"24px\">\n",
              "    <path d=\"M0 0h24v24H0V0z\" fill=\"none\"/>\n",
              "    <path d=\"M18.56 5.44l.94 2.06.94-2.06 2.06-.94-2.06-.94-.94-2.06-.94 2.06-2.06.94zm-11 1L8.5 8.5l.94-2.06 2.06-.94-2.06-.94L8.5 2.5l-.94 2.06-2.06.94zm10 10l.94 2.06.94-2.06 2.06-.94-2.06-.94-.94-2.06-.94 2.06-2.06.94z\"/><path d=\"M17.41 7.96l-1.37-1.37c-.4-.4-.92-.59-1.43-.59-.52 0-1.04.2-1.43.59L10.3 9.45l-7.72 7.72c-.78.78-.78 2.05 0 2.83L4 21.41c.39.39.9.59 1.41.59.51 0 1.02-.2 1.41-.59l7.78-7.78 2.81-2.81c.8-.78.8-2.07 0-2.86zM5.41 20L4 18.59l7.72-7.72 1.47 1.35L5.41 20z\"/>\n",
              "  </svg>\n",
              "      </button>\n",
              "      \n",
              "  <style>\n",
              "    .colab-df-container {\n",
              "      display:flex;\n",
              "      flex-wrap:wrap;\n",
              "      gap: 12px;\n",
              "    }\n",
              "\n",
              "    .colab-df-convert {\n",
              "      background-color: #E8F0FE;\n",
              "      border: none;\n",
              "      border-radius: 50%;\n",
              "      cursor: pointer;\n",
              "      display: none;\n",
              "      fill: #1967D2;\n",
              "      height: 32px;\n",
              "      padding: 0 0 0 0;\n",
              "      width: 32px;\n",
              "    }\n",
              "\n",
              "    .colab-df-convert:hover {\n",
              "      background-color: #E2EBFA;\n",
              "      box-shadow: 0px 1px 2px rgba(60, 64, 67, 0.3), 0px 1px 3px 1px rgba(60, 64, 67, 0.15);\n",
              "      fill: #174EA6;\n",
              "    }\n",
              "\n",
              "    [theme=dark] .colab-df-convert {\n",
              "      background-color: #3B4455;\n",
              "      fill: #D2E3FC;\n",
              "    }\n",
              "\n",
              "    [theme=dark] .colab-df-convert:hover {\n",
              "      background-color: #434B5C;\n",
              "      box-shadow: 0px 1px 3px 1px rgba(0, 0, 0, 0.15);\n",
              "      filter: drop-shadow(0px 1px 2px rgba(0, 0, 0, 0.3));\n",
              "      fill: #FFFFFF;\n",
              "    }\n",
              "  </style>\n",
              "\n",
              "      <script>\n",
              "        const buttonEl =\n",
              "          document.querySelector('#df-94cb07a9-0727-4270-adf6-3564ea6c6503 button.colab-df-convert');\n",
              "        buttonEl.style.display =\n",
              "          google.colab.kernel.accessAllowed ? 'block' : 'none';\n",
              "\n",
              "        async function convertToInteractive(key) {\n",
              "          const element = document.querySelector('#df-94cb07a9-0727-4270-adf6-3564ea6c6503');\n",
              "          const dataTable =\n",
              "            await google.colab.kernel.invokeFunction('convertToInteractive',\n",
              "                                                     [key], {});\n",
              "          if (!dataTable) return;\n",
              "\n",
              "          const docLinkHtml = 'Like what you see? Visit the ' +\n",
              "            '<a target=\"_blank\" href=https://colab.research.google.com/notebooks/data_table.ipynb>data table notebook</a>'\n",
              "            + ' to learn more about interactive tables.';\n",
              "          element.innerHTML = '';\n",
              "          dataTable['output_type'] = 'display_data';\n",
              "          await google.colab.output.renderOutput(dataTable, element);\n",
              "          const docLink = document.createElement('div');\n",
              "          docLink.innerHTML = docLinkHtml;\n",
              "          element.appendChild(docLink);\n",
              "        }\n",
              "      </script>\n",
              "    </div>\n",
              "  </div>\n",
              "  "
            ]
          },
          "metadata": {},
          "execution_count": 311
        }
      ],
      "source": [
        "#checking the test dataframe \n",
        "df1.head(5)"
      ]
    },
    {
      "cell_type": "code",
      "execution_count": 312,
      "id": "9e2c7154",
      "metadata": {
        "colab": {
          "base_uri": "https://localhost:8080/"
        },
        "id": "9e2c7154",
        "outputId": "040f6f09-be48-4b2e-8689-4b922a1d378c"
      },
      "outputs": [
        {
          "output_type": "execute_result",
          "data": {
            "text/plain": [
              "(17824, 14)"
            ]
          },
          "metadata": {},
          "execution_count": 312
        }
      ],
      "source": [
        "#Checking the shape of test data \n",
        "df1.shape"
      ]
    },
    {
      "cell_type": "code",
      "execution_count": 313,
      "id": "89dfba88",
      "metadata": {
        "colab": {
          "base_uri": "https://localhost:8080/"
        },
        "id": "89dfba88",
        "outputId": "83976e65-8b6f-4f03-d7f0-553848515beb"
      },
      "outputs": [
        {
          "output_type": "execute_result",
          "data": {
            "text/plain": [
              "0"
            ]
          },
          "metadata": {},
          "execution_count": 313
        }
      ],
      "source": [
        "#Checking for duplicate values\n",
        "df1.duplicated().sum() "
      ]
    },
    {
      "cell_type": "markdown",
      "id": "42e50eb7",
      "metadata": {
        "id": "42e50eb7"
      },
      "source": [
        "##### There are no duplicate values"
      ]
    },
    {
      "cell_type": "code",
      "execution_count": 314,
      "id": "c31fe5af",
      "metadata": {
        "colab": {
          "base_uri": "https://localhost:8080/"
        },
        "id": "c31fe5af",
        "outputId": "080c67c5-674b-445d-a31b-b3333649e5ad"
      },
      "outputs": [
        {
          "output_type": "execute_result",
          "data": {
            "text/plain": [
              "ClaimNumber                  0\n",
              "DateTimeOfAccident           0\n",
              "DateReported                 0\n",
              "Age                          0\n",
              "Gender                       0\n",
              "MaritalStatus                7\n",
              "DependentChildren            0\n",
              "DependentsOther              0\n",
              "WeeklyWages                  0\n",
              "PartTimeFullTime             0\n",
              "HoursWorkedPerWeek           0\n",
              "DaysWorkedPerWeek            0\n",
              "ClaimDescription             0\n",
              "InitialIncurredCalimsCost    0\n",
              "dtype: int64"
            ]
          },
          "metadata": {},
          "execution_count": 314
        }
      ],
      "source": [
        "#Checking for the null values\n",
        "df1.isnull().sum()"
      ]
    },
    {
      "cell_type": "code",
      "execution_count": 315,
      "id": "8c260e0d",
      "metadata": {
        "id": "8c260e0d"
      },
      "outputs": [],
      "source": [
        "#Missing Value Treatment using mode imputation\n",
        "df1['MaritalStatus']=df1['MaritalStatus'].fillna(df1['MaritalStatus'].mode()[0])"
      ]
    },
    {
      "cell_type": "code",
      "execution_count": 316,
      "id": "9ade1574",
      "metadata": {
        "colab": {
          "base_uri": "https://localhost:8080/"
        },
        "id": "9ade1574",
        "outputId": "e98248a6-187b-47c0-be8c-ae91819c327a"
      },
      "outputs": [
        {
          "output_type": "execute_result",
          "data": {
            "text/plain": [
              "ClaimNumber                  0\n",
              "DateTimeOfAccident           0\n",
              "DateReported                 0\n",
              "Age                          0\n",
              "Gender                       0\n",
              "MaritalStatus                0\n",
              "DependentChildren            0\n",
              "DependentsOther              0\n",
              "WeeklyWages                  0\n",
              "PartTimeFullTime             0\n",
              "HoursWorkedPerWeek           0\n",
              "DaysWorkedPerWeek            0\n",
              "ClaimDescription             0\n",
              "InitialIncurredCalimsCost    0\n",
              "dtype: int64"
            ]
          },
          "metadata": {},
          "execution_count": 316
        }
      ],
      "source": [
        "#To verify if there are more missing values in the dataset\n",
        "df1.isnull().sum()"
      ]
    },
    {
      "cell_type": "markdown",
      "id": "a262b3a6",
      "metadata": {
        "id": "a262b3a6"
      },
      "source": [
        "##### There are no missing values."
      ]
    },
    {
      "cell_type": "markdown",
      "id": "f880ed4f",
      "metadata": {
        "id": "f880ed4f"
      },
      "source": [
        "### Data Transformation\n",
        "\n",
        "##### Data Binning"
      ]
    },
    {
      "cell_type": "code",
      "execution_count": 317,
      "id": "6282d9d7",
      "metadata": {
        "colab": {
          "base_uri": "https://localhost:8080/"
        },
        "id": "6282d9d7",
        "outputId": "d7f5fc00-b8ad-4e68-cc72-d5a6ec188e15"
      },
      "outputs": [
        {
          "output_type": "execute_result",
          "data": {
            "text/plain": [
              "0        Middle-Age\n",
              "1        Middle-Age\n",
              "2             Young\n",
              "3             Young\n",
              "4        Middle-Age\n",
              "            ...    \n",
              "17819    Middle-Age\n",
              "17820         Young\n",
              "17821         Young\n",
              "17822         Young\n",
              "17823         Young\n",
              "Name: Age_Bin, Length: 17824, dtype: category\n",
              "Categories (3, object): ['Young' < 'Middle-Age' < 'Old']"
            ]
          },
          "metadata": {},
          "execution_count": 317
        }
      ],
      "source": [
        "df1['Age_Bin']=pd.cut(df1['Age'],bins=[1,25,50,80] , labels=['Young','Middle-Age','Old'])\n",
        "df1['Age_Bin']"
      ]
    },
    {
      "cell_type": "code",
      "execution_count": 318,
      "id": "9e309cdc",
      "metadata": {
        "colab": {
          "base_uri": "https://localhost:8080/"
        },
        "id": "9e309cdc",
        "outputId": "1353b931-ee5d-47be-e529-accbdc5865a5"
      },
      "outputs": [
        {
          "output_type": "execute_result",
          "data": {
            "text/plain": [
              "0        Low\n",
              "1        Low\n",
              "2        Low\n",
              "3        Low\n",
              "4        Low\n",
              "        ... \n",
              "17819    Low\n",
              "17820    Low\n",
              "17821    Low\n",
              "17822    Low\n",
              "17823    Low\n",
              "Name: WeeklyWages_Bin, Length: 17824, dtype: category\n",
              "Categories (5, object): ['Low' < 'Below Average' < 'Average Wage' < 'Above Average' < 'High']"
            ]
          },
          "metadata": {},
          "execution_count": 318
        }
      ],
      "source": [
        "df1['WeeklyWages_Bin']=pd.cut(df1['WeeklyWages'],bins=[0,1000,2000,4000,7000,8000] , labels=['Low','Below Average','Average Wage','Above Average','High'])\n",
        "df1['WeeklyWages_Bin']"
      ]
    },
    {
      "cell_type": "code",
      "execution_count": 319,
      "id": "d0431c19",
      "metadata": {
        "id": "d0431c19"
      },
      "outputs": [],
      "source": [
        "df1_drop=df1.drop(columns=['WeeklyWages', 'WeeklyWages_Bin','HoursWorkedPerWeek','DaysWorkedPerWeek','Age_Bin'])"
      ]
    },
    {
      "cell_type": "code",
      "execution_count": 320,
      "id": "058fddf7",
      "metadata": {
        "colab": {
          "base_uri": "https://localhost:8080/",
          "height": 496
        },
        "id": "058fddf7",
        "outputId": "dce7a6b1-9b19-4728-bf72-87234490d1f7"
      },
      "outputs": [
        {
          "output_type": "execute_result",
          "data": {
            "text/plain": [
              "  ClaimNumber    DateTimeOfAccident          DateReported  Age Gender  \\\n",
              "0   WC8476284  2002-04-19T16:00:00Z  2002-05-13T00:00:00Z   38      M   \n",
              "1   WC2445024  1989-09-26T08:00:00Z  1989-10-14T00:00:00Z   38      F   \n",
              "2   WC4566945  1994-05-02T13:00:00Z  1994-05-17T00:00:00Z   24      M   \n",
              "3   WC9911299  2005-11-26T06:00:00Z  2006-01-07T00:00:00Z   21      M   \n",
              "4   WC9066190  2003-03-12T13:00:00Z  2003-04-10T00:00:00Z   32      M   \n",
              "\n",
              "  MaritalStatus  DependentChildren  DependentsOther PartTimeFullTime  \\\n",
              "0             M                  0                0                F   \n",
              "1             M                  0                0                P   \n",
              "2             S                  0                0                F   \n",
              "3             S                  0                0                F   \n",
              "4             M                  3                0                F   \n",
              "\n",
              "                                    ClaimDescription  \\\n",
              "0  STRUCK VALVES ABRASIONS LEFT LEG LACERATED LEF...   \n",
              "1             LIFTING PATIENT PAIN IN LOWER BACK LEG   \n",
              "2               LIFTING BOXES LOWER BACK BACK INJURY   \n",
              "3      STRUCK LADDER BRUISED RIGHT KNEE MUSCLE RIGHT   \n",
              "4               FELL OFF LADDER FRACTURE RIGHT WRIST   \n",
              "\n",
              "   InitialIncurredCalimsCost  \n",
              "0                       1000  \n",
              "1                       3500  \n",
              "2                       7500  \n",
              "3                       1000  \n",
              "4                     111077  "
            ],
            "text/html": [
              "\n",
              "  <div id=\"df-39f763b1-97bc-4344-a390-4fe099e00181\">\n",
              "    <div class=\"colab-df-container\">\n",
              "      <div>\n",
              "<style scoped>\n",
              "    .dataframe tbody tr th:only-of-type {\n",
              "        vertical-align: middle;\n",
              "    }\n",
              "\n",
              "    .dataframe tbody tr th {\n",
              "        vertical-align: top;\n",
              "    }\n",
              "\n",
              "    .dataframe thead th {\n",
              "        text-align: right;\n",
              "    }\n",
              "</style>\n",
              "<table border=\"1\" class=\"dataframe\">\n",
              "  <thead>\n",
              "    <tr style=\"text-align: right;\">\n",
              "      <th></th>\n",
              "      <th>ClaimNumber</th>\n",
              "      <th>DateTimeOfAccident</th>\n",
              "      <th>DateReported</th>\n",
              "      <th>Age</th>\n",
              "      <th>Gender</th>\n",
              "      <th>MaritalStatus</th>\n",
              "      <th>DependentChildren</th>\n",
              "      <th>DependentsOther</th>\n",
              "      <th>PartTimeFullTime</th>\n",
              "      <th>ClaimDescription</th>\n",
              "      <th>InitialIncurredCalimsCost</th>\n",
              "    </tr>\n",
              "  </thead>\n",
              "  <tbody>\n",
              "    <tr>\n",
              "      <th>0</th>\n",
              "      <td>WC8476284</td>\n",
              "      <td>2002-04-19T16:00:00Z</td>\n",
              "      <td>2002-05-13T00:00:00Z</td>\n",
              "      <td>38</td>\n",
              "      <td>M</td>\n",
              "      <td>M</td>\n",
              "      <td>0</td>\n",
              "      <td>0</td>\n",
              "      <td>F</td>\n",
              "      <td>STRUCK VALVES ABRASIONS LEFT LEG LACERATED LEF...</td>\n",
              "      <td>1000</td>\n",
              "    </tr>\n",
              "    <tr>\n",
              "      <th>1</th>\n",
              "      <td>WC2445024</td>\n",
              "      <td>1989-09-26T08:00:00Z</td>\n",
              "      <td>1989-10-14T00:00:00Z</td>\n",
              "      <td>38</td>\n",
              "      <td>F</td>\n",
              "      <td>M</td>\n",
              "      <td>0</td>\n",
              "      <td>0</td>\n",
              "      <td>P</td>\n",
              "      <td>LIFTING PATIENT PAIN IN LOWER BACK LEG</td>\n",
              "      <td>3500</td>\n",
              "    </tr>\n",
              "    <tr>\n",
              "      <th>2</th>\n",
              "      <td>WC4566945</td>\n",
              "      <td>1994-05-02T13:00:00Z</td>\n",
              "      <td>1994-05-17T00:00:00Z</td>\n",
              "      <td>24</td>\n",
              "      <td>M</td>\n",
              "      <td>S</td>\n",
              "      <td>0</td>\n",
              "      <td>0</td>\n",
              "      <td>F</td>\n",
              "      <td>LIFTING BOXES LOWER BACK BACK INJURY</td>\n",
              "      <td>7500</td>\n",
              "    </tr>\n",
              "    <tr>\n",
              "      <th>3</th>\n",
              "      <td>WC9911299</td>\n",
              "      <td>2005-11-26T06:00:00Z</td>\n",
              "      <td>2006-01-07T00:00:00Z</td>\n",
              "      <td>21</td>\n",
              "      <td>M</td>\n",
              "      <td>S</td>\n",
              "      <td>0</td>\n",
              "      <td>0</td>\n",
              "      <td>F</td>\n",
              "      <td>STRUCK LADDER BRUISED RIGHT KNEE MUSCLE RIGHT</td>\n",
              "      <td>1000</td>\n",
              "    </tr>\n",
              "    <tr>\n",
              "      <th>4</th>\n",
              "      <td>WC9066190</td>\n",
              "      <td>2003-03-12T13:00:00Z</td>\n",
              "      <td>2003-04-10T00:00:00Z</td>\n",
              "      <td>32</td>\n",
              "      <td>M</td>\n",
              "      <td>M</td>\n",
              "      <td>3</td>\n",
              "      <td>0</td>\n",
              "      <td>F</td>\n",
              "      <td>FELL OFF LADDER FRACTURE RIGHT WRIST</td>\n",
              "      <td>111077</td>\n",
              "    </tr>\n",
              "  </tbody>\n",
              "</table>\n",
              "</div>\n",
              "      <button class=\"colab-df-convert\" onclick=\"convertToInteractive('df-39f763b1-97bc-4344-a390-4fe099e00181')\"\n",
              "              title=\"Convert this dataframe to an interactive table.\"\n",
              "              style=\"display:none;\">\n",
              "        \n",
              "  <svg xmlns=\"http://www.w3.org/2000/svg\" height=\"24px\"viewBox=\"0 0 24 24\"\n",
              "       width=\"24px\">\n",
              "    <path d=\"M0 0h24v24H0V0z\" fill=\"none\"/>\n",
              "    <path d=\"M18.56 5.44l.94 2.06.94-2.06 2.06-.94-2.06-.94-.94-2.06-.94 2.06-2.06.94zm-11 1L8.5 8.5l.94-2.06 2.06-.94-2.06-.94L8.5 2.5l-.94 2.06-2.06.94zm10 10l.94 2.06.94-2.06 2.06-.94-2.06-.94-.94-2.06-.94 2.06-2.06.94z\"/><path d=\"M17.41 7.96l-1.37-1.37c-.4-.4-.92-.59-1.43-.59-.52 0-1.04.2-1.43.59L10.3 9.45l-7.72 7.72c-.78.78-.78 2.05 0 2.83L4 21.41c.39.39.9.59 1.41.59.51 0 1.02-.2 1.41-.59l7.78-7.78 2.81-2.81c.8-.78.8-2.07 0-2.86zM5.41 20L4 18.59l7.72-7.72 1.47 1.35L5.41 20z\"/>\n",
              "  </svg>\n",
              "      </button>\n",
              "      \n",
              "  <style>\n",
              "    .colab-df-container {\n",
              "      display:flex;\n",
              "      flex-wrap:wrap;\n",
              "      gap: 12px;\n",
              "    }\n",
              "\n",
              "    .colab-df-convert {\n",
              "      background-color: #E8F0FE;\n",
              "      border: none;\n",
              "      border-radius: 50%;\n",
              "      cursor: pointer;\n",
              "      display: none;\n",
              "      fill: #1967D2;\n",
              "      height: 32px;\n",
              "      padding: 0 0 0 0;\n",
              "      width: 32px;\n",
              "    }\n",
              "\n",
              "    .colab-df-convert:hover {\n",
              "      background-color: #E2EBFA;\n",
              "      box-shadow: 0px 1px 2px rgba(60, 64, 67, 0.3), 0px 1px 3px 1px rgba(60, 64, 67, 0.15);\n",
              "      fill: #174EA6;\n",
              "    }\n",
              "\n",
              "    [theme=dark] .colab-df-convert {\n",
              "      background-color: #3B4455;\n",
              "      fill: #D2E3FC;\n",
              "    }\n",
              "\n",
              "    [theme=dark] .colab-df-convert:hover {\n",
              "      background-color: #434B5C;\n",
              "      box-shadow: 0px 1px 3px 1px rgba(0, 0, 0, 0.15);\n",
              "      filter: drop-shadow(0px 1px 2px rgba(0, 0, 0, 0.3));\n",
              "      fill: #FFFFFF;\n",
              "    }\n",
              "  </style>\n",
              "\n",
              "      <script>\n",
              "        const buttonEl =\n",
              "          document.querySelector('#df-39f763b1-97bc-4344-a390-4fe099e00181 button.colab-df-convert');\n",
              "        buttonEl.style.display =\n",
              "          google.colab.kernel.accessAllowed ? 'block' : 'none';\n",
              "\n",
              "        async function convertToInteractive(key) {\n",
              "          const element = document.querySelector('#df-39f763b1-97bc-4344-a390-4fe099e00181');\n",
              "          const dataTable =\n",
              "            await google.colab.kernel.invokeFunction('convertToInteractive',\n",
              "                                                     [key], {});\n",
              "          if (!dataTable) return;\n",
              "\n",
              "          const docLinkHtml = 'Like what you see? Visit the ' +\n",
              "            '<a target=\"_blank\" href=https://colab.research.google.com/notebooks/data_table.ipynb>data table notebook</a>'\n",
              "            + ' to learn more about interactive tables.';\n",
              "          element.innerHTML = '';\n",
              "          dataTable['output_type'] = 'display_data';\n",
              "          await google.colab.output.renderOutput(dataTable, element);\n",
              "          const docLink = document.createElement('div');\n",
              "          docLink.innerHTML = docLinkHtml;\n",
              "          element.appendChild(docLink);\n",
              "        }\n",
              "      </script>\n",
              "    </div>\n",
              "  </div>\n",
              "  "
            ]
          },
          "metadata": {},
          "execution_count": 320
        }
      ],
      "source": [
        "df1_drop.head(5)"
      ]
    },
    {
      "cell_type": "code",
      "execution_count": 321,
      "id": "f6588466",
      "metadata": {
        "colab": {
          "base_uri": "https://localhost:8080/",
          "height": 531
        },
        "id": "f6588466",
        "outputId": "b97306b6-d1fd-4c61-bc78-10c372a23729"
      },
      "outputs": [
        {
          "output_type": "execute_result",
          "data": {
            "text/plain": [
              "  ClaimNumber    DateTimeOfAccident          DateReported  Age Gender  \\\n",
              "1   WC8205482  2002-04-09T07:00:00Z  2002-07-05T00:00:00Z   48      M   \n",
              "2   WC6922469  1999-01-07T11:00:00Z  1999-01-20T00:00:00Z   43      F   \n",
              "3   WC5442654  1996-03-25T00:00:00Z  1996-04-14T00:00:00Z   30      M   \n",
              "5   WC2603726  1990-08-29T08:00:00Z  1990-09-27T00:00:00Z   36      M   \n",
              "6   WC6842268  1999-06-21T11:00:00Z  1999-09-09T00:00:00Z   50      M   \n",
              "\n",
              "  MaritalStatus  DependentChildren  DependentsOther PartTimeFullTime  \\\n",
              "1             M                  0              0.0                F   \n",
              "2             M                  0              0.0                F   \n",
              "3             U                  0              0.0                F   \n",
              "5             M                  0              0.0                F   \n",
              "6             M                  0              0.0                F   \n",
              "\n",
              "                                    ClaimDescription  \\\n",
              "1  LIFTING TYRE INJURY TO RIGHT ARM AND WRIST INJURY   \n",
              "2  STEPPED AROUND CRATES AND TRUCK TRAY FRACTURE ...   \n",
              "3                   CUT ON SHARP EDGE CUT LEFT THUMB   \n",
              "5  REACHING ABOVE SHOULDER LEVEL ACUTE MUSCLE STR...   \n",
              "6                 STRUCK HEAD ON HEAD LACERATED HEAD   \n",
              "\n",
              "   InitialIncurredCalimsCost  UltimateIncurredClaimCost  \n",
              "1                       1500                4748.203388  \n",
              "2                       5500                6326.285819  \n",
              "3                       1700                2293.949087  \n",
              "5                       2800                4014.002925  \n",
              "6                        500                 598.762315  "
            ],
            "text/html": [
              "\n",
              "  <div id=\"df-c607f4db-0e71-4953-87a9-76b4b6ce2a48\">\n",
              "    <div class=\"colab-df-container\">\n",
              "      <div>\n",
              "<style scoped>\n",
              "    .dataframe tbody tr th:only-of-type {\n",
              "        vertical-align: middle;\n",
              "    }\n",
              "\n",
              "    .dataframe tbody tr th {\n",
              "        vertical-align: top;\n",
              "    }\n",
              "\n",
              "    .dataframe thead th {\n",
              "        text-align: right;\n",
              "    }\n",
              "</style>\n",
              "<table border=\"1\" class=\"dataframe\">\n",
              "  <thead>\n",
              "    <tr style=\"text-align: right;\">\n",
              "      <th></th>\n",
              "      <th>ClaimNumber</th>\n",
              "      <th>DateTimeOfAccident</th>\n",
              "      <th>DateReported</th>\n",
              "      <th>Age</th>\n",
              "      <th>Gender</th>\n",
              "      <th>MaritalStatus</th>\n",
              "      <th>DependentChildren</th>\n",
              "      <th>DependentsOther</th>\n",
              "      <th>PartTimeFullTime</th>\n",
              "      <th>ClaimDescription</th>\n",
              "      <th>InitialIncurredCalimsCost</th>\n",
              "      <th>UltimateIncurredClaimCost</th>\n",
              "    </tr>\n",
              "  </thead>\n",
              "  <tbody>\n",
              "    <tr>\n",
              "      <th>1</th>\n",
              "      <td>WC8205482</td>\n",
              "      <td>2002-04-09T07:00:00Z</td>\n",
              "      <td>2002-07-05T00:00:00Z</td>\n",
              "      <td>48</td>\n",
              "      <td>M</td>\n",
              "      <td>M</td>\n",
              "      <td>0</td>\n",
              "      <td>0.0</td>\n",
              "      <td>F</td>\n",
              "      <td>LIFTING TYRE INJURY TO RIGHT ARM AND WRIST INJURY</td>\n",
              "      <td>1500</td>\n",
              "      <td>4748.203388</td>\n",
              "    </tr>\n",
              "    <tr>\n",
              "      <th>2</th>\n",
              "      <td>WC6922469</td>\n",
              "      <td>1999-01-07T11:00:00Z</td>\n",
              "      <td>1999-01-20T00:00:00Z</td>\n",
              "      <td>43</td>\n",
              "      <td>F</td>\n",
              "      <td>M</td>\n",
              "      <td>0</td>\n",
              "      <td>0.0</td>\n",
              "      <td>F</td>\n",
              "      <td>STEPPED AROUND CRATES AND TRUCK TRAY FRACTURE ...</td>\n",
              "      <td>5500</td>\n",
              "      <td>6326.285819</td>\n",
              "    </tr>\n",
              "    <tr>\n",
              "      <th>3</th>\n",
              "      <td>WC5442654</td>\n",
              "      <td>1996-03-25T00:00:00Z</td>\n",
              "      <td>1996-04-14T00:00:00Z</td>\n",
              "      <td>30</td>\n",
              "      <td>M</td>\n",
              "      <td>U</td>\n",
              "      <td>0</td>\n",
              "      <td>0.0</td>\n",
              "      <td>F</td>\n",
              "      <td>CUT ON SHARP EDGE CUT LEFT THUMB</td>\n",
              "      <td>1700</td>\n",
              "      <td>2293.949087</td>\n",
              "    </tr>\n",
              "    <tr>\n",
              "      <th>5</th>\n",
              "      <td>WC2603726</td>\n",
              "      <td>1990-08-29T08:00:00Z</td>\n",
              "      <td>1990-09-27T00:00:00Z</td>\n",
              "      <td>36</td>\n",
              "      <td>M</td>\n",
              "      <td>M</td>\n",
              "      <td>0</td>\n",
              "      <td>0.0</td>\n",
              "      <td>F</td>\n",
              "      <td>REACHING ABOVE SHOULDER LEVEL ACUTE MUSCLE STR...</td>\n",
              "      <td>2800</td>\n",
              "      <td>4014.002925</td>\n",
              "    </tr>\n",
              "    <tr>\n",
              "      <th>6</th>\n",
              "      <td>WC6842268</td>\n",
              "      <td>1999-06-21T11:00:00Z</td>\n",
              "      <td>1999-09-09T00:00:00Z</td>\n",
              "      <td>50</td>\n",
              "      <td>M</td>\n",
              "      <td>M</td>\n",
              "      <td>0</td>\n",
              "      <td>0.0</td>\n",
              "      <td>F</td>\n",
              "      <td>STRUCK HEAD ON HEAD LACERATED HEAD</td>\n",
              "      <td>500</td>\n",
              "      <td>598.762315</td>\n",
              "    </tr>\n",
              "  </tbody>\n",
              "</table>\n",
              "</div>\n",
              "      <button class=\"colab-df-convert\" onclick=\"convertToInteractive('df-c607f4db-0e71-4953-87a9-76b4b6ce2a48')\"\n",
              "              title=\"Convert this dataframe to an interactive table.\"\n",
              "              style=\"display:none;\">\n",
              "        \n",
              "  <svg xmlns=\"http://www.w3.org/2000/svg\" height=\"24px\"viewBox=\"0 0 24 24\"\n",
              "       width=\"24px\">\n",
              "    <path d=\"M0 0h24v24H0V0z\" fill=\"none\"/>\n",
              "    <path d=\"M18.56 5.44l.94 2.06.94-2.06 2.06-.94-2.06-.94-.94-2.06-.94 2.06-2.06.94zm-11 1L8.5 8.5l.94-2.06 2.06-.94-2.06-.94L8.5 2.5l-.94 2.06-2.06.94zm10 10l.94 2.06.94-2.06 2.06-.94-2.06-.94-.94-2.06-.94 2.06-2.06.94z\"/><path d=\"M17.41 7.96l-1.37-1.37c-.4-.4-.92-.59-1.43-.59-.52 0-1.04.2-1.43.59L10.3 9.45l-7.72 7.72c-.78.78-.78 2.05 0 2.83L4 21.41c.39.39.9.59 1.41.59.51 0 1.02-.2 1.41-.59l7.78-7.78 2.81-2.81c.8-.78.8-2.07 0-2.86zM5.41 20L4 18.59l7.72-7.72 1.47 1.35L5.41 20z\"/>\n",
              "  </svg>\n",
              "      </button>\n",
              "      \n",
              "  <style>\n",
              "    .colab-df-container {\n",
              "      display:flex;\n",
              "      flex-wrap:wrap;\n",
              "      gap: 12px;\n",
              "    }\n",
              "\n",
              "    .colab-df-convert {\n",
              "      background-color: #E8F0FE;\n",
              "      border: none;\n",
              "      border-radius: 50%;\n",
              "      cursor: pointer;\n",
              "      display: none;\n",
              "      fill: #1967D2;\n",
              "      height: 32px;\n",
              "      padding: 0 0 0 0;\n",
              "      width: 32px;\n",
              "    }\n",
              "\n",
              "    .colab-df-convert:hover {\n",
              "      background-color: #E2EBFA;\n",
              "      box-shadow: 0px 1px 2px rgba(60, 64, 67, 0.3), 0px 1px 3px 1px rgba(60, 64, 67, 0.15);\n",
              "      fill: #174EA6;\n",
              "    }\n",
              "\n",
              "    [theme=dark] .colab-df-convert {\n",
              "      background-color: #3B4455;\n",
              "      fill: #D2E3FC;\n",
              "    }\n",
              "\n",
              "    [theme=dark] .colab-df-convert:hover {\n",
              "      background-color: #434B5C;\n",
              "      box-shadow: 0px 1px 3px 1px rgba(0, 0, 0, 0.15);\n",
              "      filter: drop-shadow(0px 1px 2px rgba(0, 0, 0, 0.3));\n",
              "      fill: #FFFFFF;\n",
              "    }\n",
              "  </style>\n",
              "\n",
              "      <script>\n",
              "        const buttonEl =\n",
              "          document.querySelector('#df-c607f4db-0e71-4953-87a9-76b4b6ce2a48 button.colab-df-convert');\n",
              "        buttonEl.style.display =\n",
              "          google.colab.kernel.accessAllowed ? 'block' : 'none';\n",
              "\n",
              "        async function convertToInteractive(key) {\n",
              "          const element = document.querySelector('#df-c607f4db-0e71-4953-87a9-76b4b6ce2a48');\n",
              "          const dataTable =\n",
              "            await google.colab.kernel.invokeFunction('convertToInteractive',\n",
              "                                                     [key], {});\n",
              "          if (!dataTable) return;\n",
              "\n",
              "          const docLinkHtml = 'Like what you see? Visit the ' +\n",
              "            '<a target=\"_blank\" href=https://colab.research.google.com/notebooks/data_table.ipynb>data table notebook</a>'\n",
              "            + ' to learn more about interactive tables.';\n",
              "          element.innerHTML = '';\n",
              "          dataTable['output_type'] = 'display_data';\n",
              "          await google.colab.output.renderOutput(dataTable, element);\n",
              "          const docLink = document.createElement('div');\n",
              "          docLink.innerHTML = docLinkHtml;\n",
              "          element.appendChild(docLink);\n",
              "        }\n",
              "      </script>\n",
              "    </div>\n",
              "  </div>\n",
              "  "
            ]
          },
          "metadata": {},
          "execution_count": 321
        }
      ],
      "source": [
        "df_drop.head(5)"
      ]
    },
    {
      "cell_type": "code",
      "execution_count": 322,
      "id": "f1920778",
      "metadata": {
        "colab": {
          "base_uri": "https://localhost:8080/"
        },
        "id": "f1920778",
        "outputId": "c1b8e4f0-984f-40d6-bf6c-e3764da5f005"
      },
      "outputs": [
        {
          "output_type": "stream",
          "name": "stdout",
          "text": [
            "<class 'pandas.core.frame.DataFrame'>\n",
            "RangeIndex: 17824 entries, 0 to 17823\n",
            "Data columns (total 11 columns):\n",
            " #   Column                     Non-Null Count  Dtype \n",
            "---  ------                     --------------  ----- \n",
            " 0   ClaimNumber                17824 non-null  object\n",
            " 1   DateTimeOfAccident         17824 non-null  object\n",
            " 2   DateReported               17824 non-null  object\n",
            " 3   Age                        17824 non-null  int64 \n",
            " 4   Gender                     17824 non-null  object\n",
            " 5   MaritalStatus              17824 non-null  object\n",
            " 6   DependentChildren          17824 non-null  int64 \n",
            " 7   DependentsOther            17824 non-null  int64 \n",
            " 8   PartTimeFullTime           17824 non-null  object\n",
            " 9   ClaimDescription           17824 non-null  object\n",
            " 10  InitialIncurredCalimsCost  17824 non-null  int64 \n",
            "dtypes: int64(4), object(7)\n",
            "memory usage: 1.5+ MB\n"
          ]
        }
      ],
      "source": [
        "df1_drop.info()"
      ]
    },
    {
      "cell_type": "code",
      "execution_count": 323,
      "id": "4d2a2e52",
      "metadata": {
        "id": "4d2a2e52"
      },
      "outputs": [],
      "source": [
        "label_encoder=pre.LabelEncoder()\n",
        "df1_drop['ClaimNumber']=label_encoder.fit_transform(df1_drop['ClaimNumber'])\n",
        "df1_drop['DateTimeOfAccident']=label_encoder.fit_transform(df1_drop['DateTimeOfAccident'])\n",
        "df1_drop['DateReported']=label_encoder.fit_transform(df1_drop['DateReported'])\n",
        "df1_drop['Age']=label_encoder.fit_transform(df1_drop['Age'])\n",
        "df1_drop['MaritalStatus']=label_encoder.fit_transform(df1_drop['MaritalStatus'])\n",
        "df1_drop['PartTimeFullTime']=label_encoder.fit_transform(df1_drop['PartTimeFullTime'])\n",
        "df1_drop['ClaimDescription']=label_encoder.fit_transform(df1_drop['ClaimDescription'])"
      ]
    },
    {
      "cell_type": "code",
      "execution_count": 324,
      "id": "c28a0677",
      "metadata": {
        "colab": {
          "base_uri": "https://localhost:8080/"
        },
        "id": "c28a0677",
        "outputId": "459876eb-f7ed-4cbf-ebcf-7c11e140fe99"
      },
      "outputs": [
        {
          "output_type": "execute_result",
          "data": {
            "text/plain": [
              "ClaimNumber                   int64\n",
              "DateTimeOfAccident            int64\n",
              "DateReported                  int64\n",
              "Age                           int64\n",
              "Gender                       object\n",
              "MaritalStatus                 int64\n",
              "DependentChildren             int64\n",
              "DependentsOther               int64\n",
              "PartTimeFullTime              int64\n",
              "ClaimDescription              int64\n",
              "InitialIncurredCalimsCost     int64\n",
              "dtype: object"
            ]
          },
          "metadata": {},
          "execution_count": 324
        }
      ],
      "source": [
        "df1_drop.dtypes"
      ]
    },
    {
      "cell_type": "code",
      "execution_count": 325,
      "id": "ac02dd97",
      "metadata": {
        "id": "ac02dd97"
      },
      "outputs": [],
      "source": [
        "def test_pre(data):\n",
        "    import sklearn.preprocessing as pre\n",
        "    from sklearn.preprocessing import minmax_scale\n",
        "    #label_encoder=pre.LabelEncoder()\n",
        "    data=data.apply(minmax_scale)\n",
        "    #data['Age']=label_encoder.fit_transform(data['Age'])\n",
        "    #data['MaritalStatus']=label_encoder.fit_transform(data['MaritalStatus'])\n",
        "    #data['ClaimDescription']=label_encoder.fit_transform(data['ClaimDescription'])\n",
        "    return data"
      ]
    },
    {
      "cell_type": "code",
      "execution_count": 328,
      "id": "0cfa08a1",
      "metadata": {
        "colab": {
          "base_uri": "https://localhost:8080/"
        },
        "id": "0cfa08a1",
        "outputId": "ae76798b-7108-41d8-bca2-d8f1aaa5fd30"
      },
      "outputs": [
        {
          "output_type": "execute_result",
          "data": {
            "text/plain": [
              "array([3600.92002024, 1271.92006299, 1364.90593212, ..., 2508.63986099,\n",
              "       1272.91095779, 5179.4770579 ])"
            ]
          },
          "metadata": {},
          "execution_count": 328
        }
      ],
      "source": [
        "y_pred"
      ]
    },
    {
      "cell_type": "code",
      "execution_count": 329,
      "id": "5ffb8df9",
      "metadata": {
        "id": "5ffb8df9"
      },
      "outputs": [],
      "source": [
        "result=y_pred"
      ]
    }
  ],
  "metadata": {
    "kernelspec": {
      "display_name": "Python 3",
      "language": "python",
      "name": "python3"
    },
    "language_info": {
      "codemirror_mode": {
        "name": "ipython",
        "version": 3
      },
      "file_extension": ".py",
      "mimetype": "text/x-python",
      "name": "python",
      "nbconvert_exporter": "python",
      "pygments_lexer": "ipython3",
      "version": "3.8.8"
    },
    "colab": {
      "name": "vehicle insurance claim prediction.ipynb",
      "provenance": [],
      "include_colab_link": true
    }
  },
  "nbformat": 4,
  "nbformat_minor": 5
}